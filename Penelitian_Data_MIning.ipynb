{
  "nbformat": 4,
  "nbformat_minor": 0,
  "metadata": {
    "colab": {
      "provenance": [],
      "include_colab_link": true
    },
    "kernelspec": {
      "name": "python3",
      "display_name": "Python 3"
    },
    "language_info": {
      "name": "python"
    }
  },
  "cells": [
    {
      "cell_type": "markdown",
      "metadata": {
        "id": "view-in-github",
        "colab_type": "text"
      },
      "source": [
        "<a href=\"https://colab.research.google.com/github/zyraf13/KomparasiKNN_dan_NaiveBayes/blob/main/Penelitian_Data_MIning.ipynb\" target=\"_parent\"><img src=\"https://colab.research.google.com/assets/colab-badge.svg\" alt=\"Open In Colab\"/></a>"
      ]
    },
    {
      "cell_type": "code",
      "metadata": {
        "id": "2DnwN8kziiHQ",
        "colab": {
          "base_uri": "https://localhost:8080/",
          "height": 0
        },
        "outputId": "52ab812d-6ade-4b5c-85d8-cb8455673234"
      },
      "source": [
        "#Referensi: https://www.linkedin.com/pulse/how-scrape-google-play-reviews-4-simple-steps-using-python-kundi/\n",
        "\n",
        "!pip install google-play-scraper"
      ],
      "execution_count": 166,
      "outputs": [
        {
          "output_type": "stream",
          "name": "stdout",
          "text": [
            "Requirement already satisfied: google-play-scraper in /usr/local/lib/python3.10/dist-packages (1.2.4)\n"
          ]
        }
      ]
    },
    {
      "cell_type": "code",
      "metadata": {
        "id": "e9klApCuGeKQ"
      },
      "source": [
        "from google_play_scraper import app\n",
        "\n",
        "import pandas as pd\n",
        "\n",
        "import numpy as np"
      ],
      "execution_count": 167,
      "outputs": []
    },
    {
      "cell_type": "code",
      "source": [],
      "metadata": {
        "id": "BQutbg2a5Vxj"
      },
      "execution_count": null,
      "outputs": []
    },
    {
      "cell_type": "code",
      "metadata": {
        "id": "IyazUxVxKCEB"
      },
      "source": [
        "#Scrape desired number of reviews\n",
        "#Run kode ini jika ingin scrape data dengan jumlah tertentu. Ganti (misal, ingin scrape sejumlah 1000, maka ganti kode , count = 1000 )\n",
        "\n",
        "from google_play_scraper import Sort, reviews\n",
        "\n",
        "result, continuation_token = reviews(\n",
        "    'com.shopee.id',\n",
        "    lang='id',\n",
        "    country='id',\n",
        "    sort=Sort.MOST_RELEVANT,\n",
        "    count=2000,\n",
        "    filter_score_with=None\n",
        ")"
      ],
      "execution_count": 168,
      "outputs": []
    },
    {
      "cell_type": "code",
      "metadata": {
        "id": "8ebsnHrfHWig",
        "colab": {
          "base_uri": "https://localhost:8080/",
          "height": 565
        },
        "outputId": "ae2c0e9c-e1b0-4fd7-c0d1-bbf6cf391dc7"
      },
      "source": [
        "df_busu = pd.DataFrame(np.array(result),columns=['review'])\n",
        "\n",
        "df_busu = df_busu.join(pd.DataFrame(df_busu.pop('review').tolist()))\n",
        "\n",
        "df_busu.head()"
      ],
      "execution_count": 169,
      "outputs": [
        {
          "output_type": "execute_result",
          "data": {
            "text/plain": [
              "                               reviewId              userName  \\\n",
              "0  11ecf6f5-4b2c-4d6a-a4c4-065da547380a                 Ini H   \n",
              "1  501ff873-b55c-44e7-b25e-b31a471e68eb  Lola Pertiwi Mulyadi   \n",
              "2  aa5c099b-8b2d-4cc3-8c85-1c345cdb3bdf             Epri Yadi   \n",
              "3  2280f36f-d568-4d65-bed7-7ea993ea172b       RA Widyaningsih   \n",
              "4  757cfb68-41ee-447a-8d4b-69869fc49212                   emd   \n",
              "\n",
              "                                           userImage  \\\n",
              "0  https://play-lh.googleusercontent.com/a-/AD_cM...   \n",
              "1  https://play-lh.googleusercontent.com/a-/AD_cM...   \n",
              "2  https://play-lh.googleusercontent.com/a-/AD_cM...   \n",
              "3  https://play-lh.googleusercontent.com/a-/AD_cM...   \n",
              "4  https://play-lh.googleusercontent.com/a-/AD_cM...   \n",
              "\n",
              "                                             content  score  thumbsUpCount  \\\n",
              "0  Aplikasi semakin lelet & lemot, terlalu berat ...      1           7972   \n",
              "1  Lambat, lemot, mau chat ke penjual sering gaga...      1           1799   \n",
              "2  Tolong untuk pihak Shopee,Tolong untuk di eval...      1           1359   \n",
              "3  Shopee sering lemot itu sudah biasa, tapi mala...      3             16   \n",
              "4  Aplikasi shopee itu bermasalah banget, mau pro...      1            740   \n",
              "\n",
              "  reviewCreatedVersion                  at  \\\n",
              "0              3.03.10 2023-06-14 05:41:39   \n",
              "1              3.03.10 2023-06-15 01:08:53   \n",
              "2              3.04.20 2023-06-29 06:39:11   \n",
              "3              3.04.20 2023-07-02 16:27:00   \n",
              "4              3.03.10 2023-06-14 12:16:59   \n",
              "\n",
              "                                        replyContent           repliedAt  \\\n",
              "0  hi ka, mkasi feedbacknya, maaf buat ga nyaman.... 2023-06-14 06:23:25   \n",
              "1  Hi kak, maaf ya atas kendala aplikasi lemot. M... 2023-06-15 02:16:11   \n",
              "2  Hai kak, maaf ya. Terkait kendala, mimin saran... 2023-06-29 07:18:27   \n",
              "3                                               None                 NaT   \n",
              "4  Hi kak, maaf atas kendalanya. Terkait kendala ... 2023-06-14 13:35:47   \n",
              "\n",
              "  appVersion  \n",
              "0    3.03.10  \n",
              "1    3.03.10  \n",
              "2    3.04.20  \n",
              "3    3.04.20  \n",
              "4    3.03.10  "
            ],
            "text/html": [
              "\n",
              "  <div id=\"df-87273664-9885-4ce9-a561-08fb1c550030\">\n",
              "    <div class=\"colab-df-container\">\n",
              "      <div>\n",
              "<style scoped>\n",
              "    .dataframe tbody tr th:only-of-type {\n",
              "        vertical-align: middle;\n",
              "    }\n",
              "\n",
              "    .dataframe tbody tr th {\n",
              "        vertical-align: top;\n",
              "    }\n",
              "\n",
              "    .dataframe thead th {\n",
              "        text-align: right;\n",
              "    }\n",
              "</style>\n",
              "<table border=\"1\" class=\"dataframe\">\n",
              "  <thead>\n",
              "    <tr style=\"text-align: right;\">\n",
              "      <th></th>\n",
              "      <th>reviewId</th>\n",
              "      <th>userName</th>\n",
              "      <th>userImage</th>\n",
              "      <th>content</th>\n",
              "      <th>score</th>\n",
              "      <th>thumbsUpCount</th>\n",
              "      <th>reviewCreatedVersion</th>\n",
              "      <th>at</th>\n",
              "      <th>replyContent</th>\n",
              "      <th>repliedAt</th>\n",
              "      <th>appVersion</th>\n",
              "    </tr>\n",
              "  </thead>\n",
              "  <tbody>\n",
              "    <tr>\n",
              "      <th>0</th>\n",
              "      <td>11ecf6f5-4b2c-4d6a-a4c4-065da547380a</td>\n",
              "      <td>Ini H</td>\n",
              "      <td>https://play-lh.googleusercontent.com/a-/AD_cM...</td>\n",
              "      <td>Aplikasi semakin lelet &amp; lemot, terlalu berat ...</td>\n",
              "      <td>1</td>\n",
              "      <td>7972</td>\n",
              "      <td>3.03.10</td>\n",
              "      <td>2023-06-14 05:41:39</td>\n",
              "      <td>hi ka, mkasi feedbacknya, maaf buat ga nyaman....</td>\n",
              "      <td>2023-06-14 06:23:25</td>\n",
              "      <td>3.03.10</td>\n",
              "    </tr>\n",
              "    <tr>\n",
              "      <th>1</th>\n",
              "      <td>501ff873-b55c-44e7-b25e-b31a471e68eb</td>\n",
              "      <td>Lola Pertiwi Mulyadi</td>\n",
              "      <td>https://play-lh.googleusercontent.com/a-/AD_cM...</td>\n",
              "      <td>Lambat, lemot, mau chat ke penjual sering gaga...</td>\n",
              "      <td>1</td>\n",
              "      <td>1799</td>\n",
              "      <td>3.03.10</td>\n",
              "      <td>2023-06-15 01:08:53</td>\n",
              "      <td>Hi kak, maaf ya atas kendala aplikasi lemot. M...</td>\n",
              "      <td>2023-06-15 02:16:11</td>\n",
              "      <td>3.03.10</td>\n",
              "    </tr>\n",
              "    <tr>\n",
              "      <th>2</th>\n",
              "      <td>aa5c099b-8b2d-4cc3-8c85-1c345cdb3bdf</td>\n",
              "      <td>Epri Yadi</td>\n",
              "      <td>https://play-lh.googleusercontent.com/a-/AD_cM...</td>\n",
              "      <td>Tolong untuk pihak Shopee,Tolong untuk di eval...</td>\n",
              "      <td>1</td>\n",
              "      <td>1359</td>\n",
              "      <td>3.04.20</td>\n",
              "      <td>2023-06-29 06:39:11</td>\n",
              "      <td>Hai kak, maaf ya. Terkait kendala, mimin saran...</td>\n",
              "      <td>2023-06-29 07:18:27</td>\n",
              "      <td>3.04.20</td>\n",
              "    </tr>\n",
              "    <tr>\n",
              "      <th>3</th>\n",
              "      <td>2280f36f-d568-4d65-bed7-7ea993ea172b</td>\n",
              "      <td>RA Widyaningsih</td>\n",
              "      <td>https://play-lh.googleusercontent.com/a-/AD_cM...</td>\n",
              "      <td>Shopee sering lemot itu sudah biasa, tapi mala...</td>\n",
              "      <td>3</td>\n",
              "      <td>16</td>\n",
              "      <td>3.04.20</td>\n",
              "      <td>2023-07-02 16:27:00</td>\n",
              "      <td>None</td>\n",
              "      <td>NaT</td>\n",
              "      <td>3.04.20</td>\n",
              "    </tr>\n",
              "    <tr>\n",
              "      <th>4</th>\n",
              "      <td>757cfb68-41ee-447a-8d4b-69869fc49212</td>\n",
              "      <td>emd</td>\n",
              "      <td>https://play-lh.googleusercontent.com/a-/AD_cM...</td>\n",
              "      <td>Aplikasi shopee itu bermasalah banget, mau pro...</td>\n",
              "      <td>1</td>\n",
              "      <td>740</td>\n",
              "      <td>3.03.10</td>\n",
              "      <td>2023-06-14 12:16:59</td>\n",
              "      <td>Hi kak, maaf atas kendalanya. Terkait kendala ...</td>\n",
              "      <td>2023-06-14 13:35:47</td>\n",
              "      <td>3.03.10</td>\n",
              "    </tr>\n",
              "  </tbody>\n",
              "</table>\n",
              "</div>\n",
              "      <button class=\"colab-df-convert\" onclick=\"convertToInteractive('df-87273664-9885-4ce9-a561-08fb1c550030')\"\n",
              "              title=\"Convert this dataframe to an interactive table.\"\n",
              "              style=\"display:none;\">\n",
              "        \n",
              "  <svg xmlns=\"http://www.w3.org/2000/svg\" height=\"24px\"viewBox=\"0 0 24 24\"\n",
              "       width=\"24px\">\n",
              "    <path d=\"M0 0h24v24H0V0z\" fill=\"none\"/>\n",
              "    <path d=\"M18.56 5.44l.94 2.06.94-2.06 2.06-.94-2.06-.94-.94-2.06-.94 2.06-2.06.94zm-11 1L8.5 8.5l.94-2.06 2.06-.94-2.06-.94L8.5 2.5l-.94 2.06-2.06.94zm10 10l.94 2.06.94-2.06 2.06-.94-2.06-.94-.94-2.06-.94 2.06-2.06.94z\"/><path d=\"M17.41 7.96l-1.37-1.37c-.4-.4-.92-.59-1.43-.59-.52 0-1.04.2-1.43.59L10.3 9.45l-7.72 7.72c-.78.78-.78 2.05 0 2.83L4 21.41c.39.39.9.59 1.41.59.51 0 1.02-.2 1.41-.59l7.78-7.78 2.81-2.81c.8-.78.8-2.07 0-2.86zM5.41 20L4 18.59l7.72-7.72 1.47 1.35L5.41 20z\"/>\n",
              "  </svg>\n",
              "      </button>\n",
              "      \n",
              "  <style>\n",
              "    .colab-df-container {\n",
              "      display:flex;\n",
              "      flex-wrap:wrap;\n",
              "      gap: 12px;\n",
              "    }\n",
              "\n",
              "    .colab-df-convert {\n",
              "      background-color: #E8F0FE;\n",
              "      border: none;\n",
              "      border-radius: 50%;\n",
              "      cursor: pointer;\n",
              "      display: none;\n",
              "      fill: #1967D2;\n",
              "      height: 32px;\n",
              "      padding: 0 0 0 0;\n",
              "      width: 32px;\n",
              "    }\n",
              "\n",
              "    .colab-df-convert:hover {\n",
              "      background-color: #E2EBFA;\n",
              "      box-shadow: 0px 1px 2px rgba(60, 64, 67, 0.3), 0px 1px 3px 1px rgba(60, 64, 67, 0.15);\n",
              "      fill: #174EA6;\n",
              "    }\n",
              "\n",
              "    [theme=dark] .colab-df-convert {\n",
              "      background-color: #3B4455;\n",
              "      fill: #D2E3FC;\n",
              "    }\n",
              "\n",
              "    [theme=dark] .colab-df-convert:hover {\n",
              "      background-color: #434B5C;\n",
              "      box-shadow: 0px 1px 3px 1px rgba(0, 0, 0, 0.15);\n",
              "      filter: drop-shadow(0px 1px 2px rgba(0, 0, 0, 0.3));\n",
              "      fill: #FFFFFF;\n",
              "    }\n",
              "  </style>\n",
              "\n",
              "      <script>\n",
              "        const buttonEl =\n",
              "          document.querySelector('#df-87273664-9885-4ce9-a561-08fb1c550030 button.colab-df-convert');\n",
              "        buttonEl.style.display =\n",
              "          google.colab.kernel.accessAllowed ? 'block' : 'none';\n",
              "\n",
              "        async function convertToInteractive(key) {\n",
              "          const element = document.querySelector('#df-87273664-9885-4ce9-a561-08fb1c550030');\n",
              "          const dataTable =\n",
              "            await google.colab.kernel.invokeFunction('convertToInteractive',\n",
              "                                                     [key], {});\n",
              "          if (!dataTable) return;\n",
              "\n",
              "          const docLinkHtml = 'Like what you see? Visit the ' +\n",
              "            '<a target=\"_blank\" href=https://colab.research.google.com/notebooks/data_table.ipynb>data table notebook</a>'\n",
              "            + ' to learn more about interactive tables.';\n",
              "          element.innerHTML = '';\n",
              "          dataTable['output_type'] = 'display_data';\n",
              "          await google.colab.output.renderOutput(dataTable, element);\n",
              "          const docLink = document.createElement('div');\n",
              "          docLink.innerHTML = docLinkHtml;\n",
              "          element.appendChild(docLink);\n",
              "        }\n",
              "      </script>\n",
              "    </div>\n",
              "  </div>\n",
              "  "
            ]
          },
          "metadata": {},
          "execution_count": 169
        }
      ]
    },
    {
      "cell_type": "code",
      "metadata": {
        "id": "md7wsC6fIUUH",
        "colab": {
          "base_uri": "https://localhost:8080/",
          "height": 0
        },
        "outputId": "e612eb30-ec20-40eb-b6b9-7a70de4155f2"
      },
      "source": [
        "len(df_busu.index) #count the number of data we got"
      ],
      "execution_count": 170,
      "outputs": [
        {
          "output_type": "execute_result",
          "data": {
            "text/plain": [
              "2000"
            ]
          },
          "metadata": {},
          "execution_count": 170
        }
      ]
    },
    {
      "cell_type": "code",
      "source": [
        "def convert_sentiment(score):\n",
        "    if score <= 2:\n",
        "        return 'Negatif'\n",
        "    else:\n",
        "        return 'Positif'"
      ],
      "metadata": {
        "id": "_BxnCYdsl-84"
      },
      "execution_count": 171,
      "outputs": []
    },
    {
      "cell_type": "code",
      "source": [
        "df_busu['sentiment'] = df_busu['score'].apply(convert_sentiment)"
      ],
      "metadata": {
        "id": "_1FNPfJbmjPJ"
      },
      "execution_count": 172,
      "outputs": []
    },
    {
      "cell_type": "code",
      "source": [
        "print(df_busu[['userName', 'score', 'sentiment', 'content']].head())"
      ],
      "metadata": {
        "colab": {
          "base_uri": "https://localhost:8080/",
          "height": 0
        },
        "id": "3d5x_IePm3U2",
        "outputId": "5b18a03a-ccfd-420e-ff44-28af1e7478a2"
      },
      "execution_count": 173,
      "outputs": [
        {
          "output_type": "stream",
          "name": "stdout",
          "text": [
            "               userName  score sentiment  \\\n",
            "0                 Ini H      1   Negatif   \n",
            "1  Lola Pertiwi Mulyadi      1   Negatif   \n",
            "2             Epri Yadi      1   Negatif   \n",
            "3       RA Widyaningsih      3   Positif   \n",
            "4                   emd      1   Negatif   \n",
            "\n",
            "                                             content  \n",
            "0  Aplikasi semakin lelet & lemot, terlalu berat ...  \n",
            "1  Lambat, lemot, mau chat ke penjual sering gaga...  \n",
            "2  Tolong untuk pihak Shopee,Tolong untuk di eval...  \n",
            "3  Shopee sering lemot itu sudah biasa, tapi mala...  \n",
            "4  Aplikasi shopee itu bermasalah banget, mau pro...  \n"
          ]
        }
      ]
    },
    {
      "cell_type": "code",
      "source": [
        "# Menentukan jumlah ulasan positif dan negatif\n",
        "positive_count = df_busu[df_busu['sentiment'] == 'Positif'].shape[0]\n",
        "negative_count = df_busu[df_busu['sentiment'] == 'Negatif'].shape[0]\n",
        "\n",
        "# Menampilkan hasil\n",
        "print(\"Jumlah ulasan positif:\", positive_count)\n",
        "print(\"Jumlah ulasan negatif:\", negative_count)"
      ],
      "metadata": {
        "colab": {
          "base_uri": "https://localhost:8080/",
          "height": 0
        },
        "id": "qw8e_nPCbvHz",
        "outputId": "e9be2d07-7569-44b5-d6eb-74e79b37e349"
      },
      "execution_count": 174,
      "outputs": [
        {
          "output_type": "stream",
          "name": "stdout",
          "text": [
            "Jumlah ulasan positif: 706\n",
            "Jumlah ulasan negatif: 1294\n"
          ]
        }
      ]
    },
    {
      "cell_type": "code",
      "metadata": {
        "id": "JbtEy0IPHeIO",
        "colab": {
          "base_uri": "https://localhost:8080/",
          "height": 337
        },
        "outputId": "1aaa8092-c5ef-4ab3-ab1e-484ccbfa7590"
      },
      "source": [
        "df_busu[['userName', 'score', 'sentiment', 'at', 'content']].head()  #preview userName, rating, date-time, and reviews only"
      ],
      "execution_count": 175,
      "outputs": [
        {
          "output_type": "execute_result",
          "data": {
            "text/plain": [
              "               userName  score sentiment                  at  \\\n",
              "0                 Ini H      1   Negatif 2023-06-14 05:41:39   \n",
              "1  Lola Pertiwi Mulyadi      1   Negatif 2023-06-15 01:08:53   \n",
              "2             Epri Yadi      1   Negatif 2023-06-29 06:39:11   \n",
              "3       RA Widyaningsih      3   Positif 2023-07-02 16:27:00   \n",
              "4                   emd      1   Negatif 2023-06-14 12:16:59   \n",
              "\n",
              "                                             content  \n",
              "0  Aplikasi semakin lelet & lemot, terlalu berat ...  \n",
              "1  Lambat, lemot, mau chat ke penjual sering gaga...  \n",
              "2  Tolong untuk pihak Shopee,Tolong untuk di eval...  \n",
              "3  Shopee sering lemot itu sudah biasa, tapi mala...  \n",
              "4  Aplikasi shopee itu bermasalah banget, mau pro...  "
            ],
            "text/html": [
              "\n",
              "  <div id=\"df-75666697-4c8a-49d3-9147-4b973c8583ac\">\n",
              "    <div class=\"colab-df-container\">\n",
              "      <div>\n",
              "<style scoped>\n",
              "    .dataframe tbody tr th:only-of-type {\n",
              "        vertical-align: middle;\n",
              "    }\n",
              "\n",
              "    .dataframe tbody tr th {\n",
              "        vertical-align: top;\n",
              "    }\n",
              "\n",
              "    .dataframe thead th {\n",
              "        text-align: right;\n",
              "    }\n",
              "</style>\n",
              "<table border=\"1\" class=\"dataframe\">\n",
              "  <thead>\n",
              "    <tr style=\"text-align: right;\">\n",
              "      <th></th>\n",
              "      <th>userName</th>\n",
              "      <th>score</th>\n",
              "      <th>sentiment</th>\n",
              "      <th>at</th>\n",
              "      <th>content</th>\n",
              "    </tr>\n",
              "  </thead>\n",
              "  <tbody>\n",
              "    <tr>\n",
              "      <th>0</th>\n",
              "      <td>Ini H</td>\n",
              "      <td>1</td>\n",
              "      <td>Negatif</td>\n",
              "      <td>2023-06-14 05:41:39</td>\n",
              "      <td>Aplikasi semakin lelet &amp; lemot, terlalu berat ...</td>\n",
              "    </tr>\n",
              "    <tr>\n",
              "      <th>1</th>\n",
              "      <td>Lola Pertiwi Mulyadi</td>\n",
              "      <td>1</td>\n",
              "      <td>Negatif</td>\n",
              "      <td>2023-06-15 01:08:53</td>\n",
              "      <td>Lambat, lemot, mau chat ke penjual sering gaga...</td>\n",
              "    </tr>\n",
              "    <tr>\n",
              "      <th>2</th>\n",
              "      <td>Epri Yadi</td>\n",
              "      <td>1</td>\n",
              "      <td>Negatif</td>\n",
              "      <td>2023-06-29 06:39:11</td>\n",
              "      <td>Tolong untuk pihak Shopee,Tolong untuk di eval...</td>\n",
              "    </tr>\n",
              "    <tr>\n",
              "      <th>3</th>\n",
              "      <td>RA Widyaningsih</td>\n",
              "      <td>3</td>\n",
              "      <td>Positif</td>\n",
              "      <td>2023-07-02 16:27:00</td>\n",
              "      <td>Shopee sering lemot itu sudah biasa, tapi mala...</td>\n",
              "    </tr>\n",
              "    <tr>\n",
              "      <th>4</th>\n",
              "      <td>emd</td>\n",
              "      <td>1</td>\n",
              "      <td>Negatif</td>\n",
              "      <td>2023-06-14 12:16:59</td>\n",
              "      <td>Aplikasi shopee itu bermasalah banget, mau pro...</td>\n",
              "    </tr>\n",
              "  </tbody>\n",
              "</table>\n",
              "</div>\n",
              "      <button class=\"colab-df-convert\" onclick=\"convertToInteractive('df-75666697-4c8a-49d3-9147-4b973c8583ac')\"\n",
              "              title=\"Convert this dataframe to an interactive table.\"\n",
              "              style=\"display:none;\">\n",
              "        \n",
              "  <svg xmlns=\"http://www.w3.org/2000/svg\" height=\"24px\"viewBox=\"0 0 24 24\"\n",
              "       width=\"24px\">\n",
              "    <path d=\"M0 0h24v24H0V0z\" fill=\"none\"/>\n",
              "    <path d=\"M18.56 5.44l.94 2.06.94-2.06 2.06-.94-2.06-.94-.94-2.06-.94 2.06-2.06.94zm-11 1L8.5 8.5l.94-2.06 2.06-.94-2.06-.94L8.5 2.5l-.94 2.06-2.06.94zm10 10l.94 2.06.94-2.06 2.06-.94-2.06-.94-.94-2.06-.94 2.06-2.06.94z\"/><path d=\"M17.41 7.96l-1.37-1.37c-.4-.4-.92-.59-1.43-.59-.52 0-1.04.2-1.43.59L10.3 9.45l-7.72 7.72c-.78.78-.78 2.05 0 2.83L4 21.41c.39.39.9.59 1.41.59.51 0 1.02-.2 1.41-.59l7.78-7.78 2.81-2.81c.8-.78.8-2.07 0-2.86zM5.41 20L4 18.59l7.72-7.72 1.47 1.35L5.41 20z\"/>\n",
              "  </svg>\n",
              "      </button>\n",
              "      \n",
              "  <style>\n",
              "    .colab-df-container {\n",
              "      display:flex;\n",
              "      flex-wrap:wrap;\n",
              "      gap: 12px;\n",
              "    }\n",
              "\n",
              "    .colab-df-convert {\n",
              "      background-color: #E8F0FE;\n",
              "      border: none;\n",
              "      border-radius: 50%;\n",
              "      cursor: pointer;\n",
              "      display: none;\n",
              "      fill: #1967D2;\n",
              "      height: 32px;\n",
              "      padding: 0 0 0 0;\n",
              "      width: 32px;\n",
              "    }\n",
              "\n",
              "    .colab-df-convert:hover {\n",
              "      background-color: #E2EBFA;\n",
              "      box-shadow: 0px 1px 2px rgba(60, 64, 67, 0.3), 0px 1px 3px 1px rgba(60, 64, 67, 0.15);\n",
              "      fill: #174EA6;\n",
              "    }\n",
              "\n",
              "    [theme=dark] .colab-df-convert {\n",
              "      background-color: #3B4455;\n",
              "      fill: #D2E3FC;\n",
              "    }\n",
              "\n",
              "    [theme=dark] .colab-df-convert:hover {\n",
              "      background-color: #434B5C;\n",
              "      box-shadow: 0px 1px 3px 1px rgba(0, 0, 0, 0.15);\n",
              "      filter: drop-shadow(0px 1px 2px rgba(0, 0, 0, 0.3));\n",
              "      fill: #FFFFFF;\n",
              "    }\n",
              "  </style>\n",
              "\n",
              "      <script>\n",
              "        const buttonEl =\n",
              "          document.querySelector('#df-75666697-4c8a-49d3-9147-4b973c8583ac button.colab-df-convert');\n",
              "        buttonEl.style.display =\n",
              "          google.colab.kernel.accessAllowed ? 'block' : 'none';\n",
              "\n",
              "        async function convertToInteractive(key) {\n",
              "          const element = document.querySelector('#df-75666697-4c8a-49d3-9147-4b973c8583ac');\n",
              "          const dataTable =\n",
              "            await google.colab.kernel.invokeFunction('convertToInteractive',\n",
              "                                                     [key], {});\n",
              "          if (!dataTable) return;\n",
              "\n",
              "          const docLinkHtml = 'Like what you see? Visit the ' +\n",
              "            '<a target=\"_blank\" href=https://colab.research.google.com/notebooks/data_table.ipynb>data table notebook</a>'\n",
              "            + ' to learn more about interactive tables.';\n",
              "          element.innerHTML = '';\n",
              "          dataTable['output_type'] = 'display_data';\n",
              "          await google.colab.output.renderOutput(dataTable, element);\n",
              "          const docLink = document.createElement('div');\n",
              "          docLink.innerHTML = docLinkHtml;\n",
              "          element.appendChild(docLink);\n",
              "        }\n",
              "      </script>\n",
              "    </div>\n",
              "  </div>\n",
              "  "
            ]
          },
          "metadata": {},
          "execution_count": 175
        }
      ]
    },
    {
      "cell_type": "code",
      "metadata": {
        "colab": {
          "base_uri": "https://localhost:8080/",
          "height": 337
        },
        "id": "1yVHXsZAsC79",
        "outputId": "a8b141d3-3952-42ce-f5d4-ebab822f9344"
      },
      "source": [
        "#Run This Code to Sort the Data By Date\n",
        "\n",
        "new_df = df_busu[['userName', 'score', 'sentiment', 'at', 'content']]\n",
        "sorted_df = new_df.sort_values(by='at', ascending=False) #Sort by Newst, change to True if you want to sort by Oldest.\n",
        "sorted_df.head()"
      ],
      "execution_count": 176,
      "outputs": [
        {
          "output_type": "execute_result",
          "data": {
            "text/plain": [
              "            userName  score sentiment                  at  \\\n",
              "1251    Lisna Ananda      2   Negatif 2023-07-03 13:29:10   \n",
              "80           kim kim      1   Negatif 2023-07-03 12:56:57   \n",
              "6               Gede      1   Negatif 2023-07-03 12:38:55   \n",
              "770    Lirien Devica      1   Negatif 2023-07-03 11:58:39   \n",
              "79    Dyan Nurhayati      5   Positif 2023-07-03 11:51:16   \n",
              "\n",
              "                                                content  \n",
              "1251  Kok apk ny jdi kyk ginii, mau bayar Spinjam tp...  \n",
              "80    Pembelian paket data sama sekali gak dapat. Pa...  \n",
              "6     Aplikasi lemot berat boros ram,mau cek out jd ...  \n",
              "770   Shopee knp ya udh seminggu ini gak bisa ambil ...  \n",
              "79    Lumayan membantu belanja online, tapi sayang b...  "
            ],
            "text/html": [
              "\n",
              "  <div id=\"df-9802195b-181b-4da5-b255-a4c600e25a66\">\n",
              "    <div class=\"colab-df-container\">\n",
              "      <div>\n",
              "<style scoped>\n",
              "    .dataframe tbody tr th:only-of-type {\n",
              "        vertical-align: middle;\n",
              "    }\n",
              "\n",
              "    .dataframe tbody tr th {\n",
              "        vertical-align: top;\n",
              "    }\n",
              "\n",
              "    .dataframe thead th {\n",
              "        text-align: right;\n",
              "    }\n",
              "</style>\n",
              "<table border=\"1\" class=\"dataframe\">\n",
              "  <thead>\n",
              "    <tr style=\"text-align: right;\">\n",
              "      <th></th>\n",
              "      <th>userName</th>\n",
              "      <th>score</th>\n",
              "      <th>sentiment</th>\n",
              "      <th>at</th>\n",
              "      <th>content</th>\n",
              "    </tr>\n",
              "  </thead>\n",
              "  <tbody>\n",
              "    <tr>\n",
              "      <th>1251</th>\n",
              "      <td>Lisna Ananda</td>\n",
              "      <td>2</td>\n",
              "      <td>Negatif</td>\n",
              "      <td>2023-07-03 13:29:10</td>\n",
              "      <td>Kok apk ny jdi kyk ginii, mau bayar Spinjam tp...</td>\n",
              "    </tr>\n",
              "    <tr>\n",
              "      <th>80</th>\n",
              "      <td>kim kim</td>\n",
              "      <td>1</td>\n",
              "      <td>Negatif</td>\n",
              "      <td>2023-07-03 12:56:57</td>\n",
              "      <td>Pembelian paket data sama sekali gak dapat. Pa...</td>\n",
              "    </tr>\n",
              "    <tr>\n",
              "      <th>6</th>\n",
              "      <td>Gede</td>\n",
              "      <td>1</td>\n",
              "      <td>Negatif</td>\n",
              "      <td>2023-07-03 12:38:55</td>\n",
              "      <td>Aplikasi lemot berat boros ram,mau cek out jd ...</td>\n",
              "    </tr>\n",
              "    <tr>\n",
              "      <th>770</th>\n",
              "      <td>Lirien Devica</td>\n",
              "      <td>1</td>\n",
              "      <td>Negatif</td>\n",
              "      <td>2023-07-03 11:58:39</td>\n",
              "      <td>Shopee knp ya udh seminggu ini gak bisa ambil ...</td>\n",
              "    </tr>\n",
              "    <tr>\n",
              "      <th>79</th>\n",
              "      <td>Dyan Nurhayati</td>\n",
              "      <td>5</td>\n",
              "      <td>Positif</td>\n",
              "      <td>2023-07-03 11:51:16</td>\n",
              "      <td>Lumayan membantu belanja online, tapi sayang b...</td>\n",
              "    </tr>\n",
              "  </tbody>\n",
              "</table>\n",
              "</div>\n",
              "      <button class=\"colab-df-convert\" onclick=\"convertToInteractive('df-9802195b-181b-4da5-b255-a4c600e25a66')\"\n",
              "              title=\"Convert this dataframe to an interactive table.\"\n",
              "              style=\"display:none;\">\n",
              "        \n",
              "  <svg xmlns=\"http://www.w3.org/2000/svg\" height=\"24px\"viewBox=\"0 0 24 24\"\n",
              "       width=\"24px\">\n",
              "    <path d=\"M0 0h24v24H0V0z\" fill=\"none\"/>\n",
              "    <path d=\"M18.56 5.44l.94 2.06.94-2.06 2.06-.94-2.06-.94-.94-2.06-.94 2.06-2.06.94zm-11 1L8.5 8.5l.94-2.06 2.06-.94-2.06-.94L8.5 2.5l-.94 2.06-2.06.94zm10 10l.94 2.06.94-2.06 2.06-.94-2.06-.94-.94-2.06-.94 2.06-2.06.94z\"/><path d=\"M17.41 7.96l-1.37-1.37c-.4-.4-.92-.59-1.43-.59-.52 0-1.04.2-1.43.59L10.3 9.45l-7.72 7.72c-.78.78-.78 2.05 0 2.83L4 21.41c.39.39.9.59 1.41.59.51 0 1.02-.2 1.41-.59l7.78-7.78 2.81-2.81c.8-.78.8-2.07 0-2.86zM5.41 20L4 18.59l7.72-7.72 1.47 1.35L5.41 20z\"/>\n",
              "  </svg>\n",
              "      </button>\n",
              "      \n",
              "  <style>\n",
              "    .colab-df-container {\n",
              "      display:flex;\n",
              "      flex-wrap:wrap;\n",
              "      gap: 12px;\n",
              "    }\n",
              "\n",
              "    .colab-df-convert {\n",
              "      background-color: #E8F0FE;\n",
              "      border: none;\n",
              "      border-radius: 50%;\n",
              "      cursor: pointer;\n",
              "      display: none;\n",
              "      fill: #1967D2;\n",
              "      height: 32px;\n",
              "      padding: 0 0 0 0;\n",
              "      width: 32px;\n",
              "    }\n",
              "\n",
              "    .colab-df-convert:hover {\n",
              "      background-color: #E2EBFA;\n",
              "      box-shadow: 0px 1px 2px rgba(60, 64, 67, 0.3), 0px 1px 3px 1px rgba(60, 64, 67, 0.15);\n",
              "      fill: #174EA6;\n",
              "    }\n",
              "\n",
              "    [theme=dark] .colab-df-convert {\n",
              "      background-color: #3B4455;\n",
              "      fill: #D2E3FC;\n",
              "    }\n",
              "\n",
              "    [theme=dark] .colab-df-convert:hover {\n",
              "      background-color: #434B5C;\n",
              "      box-shadow: 0px 1px 3px 1px rgba(0, 0, 0, 0.15);\n",
              "      filter: drop-shadow(0px 1px 2px rgba(0, 0, 0, 0.3));\n",
              "      fill: #FFFFFF;\n",
              "    }\n",
              "  </style>\n",
              "\n",
              "      <script>\n",
              "        const buttonEl =\n",
              "          document.querySelector('#df-9802195b-181b-4da5-b255-a4c600e25a66 button.colab-df-convert');\n",
              "        buttonEl.style.display =\n",
              "          google.colab.kernel.accessAllowed ? 'block' : 'none';\n",
              "\n",
              "        async function convertToInteractive(key) {\n",
              "          const element = document.querySelector('#df-9802195b-181b-4da5-b255-a4c600e25a66');\n",
              "          const dataTable =\n",
              "            await google.colab.kernel.invokeFunction('convertToInteractive',\n",
              "                                                     [key], {});\n",
              "          if (!dataTable) return;\n",
              "\n",
              "          const docLinkHtml = 'Like what you see? Visit the ' +\n",
              "            '<a target=\"_blank\" href=https://colab.research.google.com/notebooks/data_table.ipynb>data table notebook</a>'\n",
              "            + ' to learn more about interactive tables.';\n",
              "          element.innerHTML = '';\n",
              "          dataTable['output_type'] = 'display_data';\n",
              "          await google.colab.output.renderOutput(dataTable, element);\n",
              "          const docLink = document.createElement('div');\n",
              "          docLink.innerHTML = docLinkHtml;\n",
              "          element.appendChild(docLink);\n",
              "        }\n",
              "      </script>\n",
              "    </div>\n",
              "  </div>\n",
              "  "
            ]
          },
          "metadata": {},
          "execution_count": 176
        }
      ]
    },
    {
      "cell_type": "code",
      "metadata": {
        "id": "yCUyHN58Pngt"
      },
      "source": [
        "my_df = sorted_df[['userName', 'score','sentiment', 'at', 'content']] #get userName, rating, date-time, and reviews only"
      ],
      "execution_count": 177,
      "outputs": []
    },
    {
      "cell_type": "code",
      "metadata": {
        "colab": {
          "base_uri": "https://localhost:8080/",
          "height": 337
        },
        "id": "L1FpkUiutQds",
        "outputId": "03e40ac1-18d0-40a4-d163-f0d6693980e4"
      },
      "source": [
        "my_df.head()"
      ],
      "execution_count": 178,
      "outputs": [
        {
          "output_type": "execute_result",
          "data": {
            "text/plain": [
              "            userName  score sentiment                  at  \\\n",
              "1251    Lisna Ananda      2   Negatif 2023-07-03 13:29:10   \n",
              "80           kim kim      1   Negatif 2023-07-03 12:56:57   \n",
              "6               Gede      1   Negatif 2023-07-03 12:38:55   \n",
              "770    Lirien Devica      1   Negatif 2023-07-03 11:58:39   \n",
              "79    Dyan Nurhayati      5   Positif 2023-07-03 11:51:16   \n",
              "\n",
              "                                                content  \n",
              "1251  Kok apk ny jdi kyk ginii, mau bayar Spinjam tp...  \n",
              "80    Pembelian paket data sama sekali gak dapat. Pa...  \n",
              "6     Aplikasi lemot berat boros ram,mau cek out jd ...  \n",
              "770   Shopee knp ya udh seminggu ini gak bisa ambil ...  \n",
              "79    Lumayan membantu belanja online, tapi sayang b...  "
            ],
            "text/html": [
              "\n",
              "  <div id=\"df-749cdd7a-f915-4e27-919a-830c5b56e8b1\">\n",
              "    <div class=\"colab-df-container\">\n",
              "      <div>\n",
              "<style scoped>\n",
              "    .dataframe tbody tr th:only-of-type {\n",
              "        vertical-align: middle;\n",
              "    }\n",
              "\n",
              "    .dataframe tbody tr th {\n",
              "        vertical-align: top;\n",
              "    }\n",
              "\n",
              "    .dataframe thead th {\n",
              "        text-align: right;\n",
              "    }\n",
              "</style>\n",
              "<table border=\"1\" class=\"dataframe\">\n",
              "  <thead>\n",
              "    <tr style=\"text-align: right;\">\n",
              "      <th></th>\n",
              "      <th>userName</th>\n",
              "      <th>score</th>\n",
              "      <th>sentiment</th>\n",
              "      <th>at</th>\n",
              "      <th>content</th>\n",
              "    </tr>\n",
              "  </thead>\n",
              "  <tbody>\n",
              "    <tr>\n",
              "      <th>1251</th>\n",
              "      <td>Lisna Ananda</td>\n",
              "      <td>2</td>\n",
              "      <td>Negatif</td>\n",
              "      <td>2023-07-03 13:29:10</td>\n",
              "      <td>Kok apk ny jdi kyk ginii, mau bayar Spinjam tp...</td>\n",
              "    </tr>\n",
              "    <tr>\n",
              "      <th>80</th>\n",
              "      <td>kim kim</td>\n",
              "      <td>1</td>\n",
              "      <td>Negatif</td>\n",
              "      <td>2023-07-03 12:56:57</td>\n",
              "      <td>Pembelian paket data sama sekali gak dapat. Pa...</td>\n",
              "    </tr>\n",
              "    <tr>\n",
              "      <th>6</th>\n",
              "      <td>Gede</td>\n",
              "      <td>1</td>\n",
              "      <td>Negatif</td>\n",
              "      <td>2023-07-03 12:38:55</td>\n",
              "      <td>Aplikasi lemot berat boros ram,mau cek out jd ...</td>\n",
              "    </tr>\n",
              "    <tr>\n",
              "      <th>770</th>\n",
              "      <td>Lirien Devica</td>\n",
              "      <td>1</td>\n",
              "      <td>Negatif</td>\n",
              "      <td>2023-07-03 11:58:39</td>\n",
              "      <td>Shopee knp ya udh seminggu ini gak bisa ambil ...</td>\n",
              "    </tr>\n",
              "    <tr>\n",
              "      <th>79</th>\n",
              "      <td>Dyan Nurhayati</td>\n",
              "      <td>5</td>\n",
              "      <td>Positif</td>\n",
              "      <td>2023-07-03 11:51:16</td>\n",
              "      <td>Lumayan membantu belanja online, tapi sayang b...</td>\n",
              "    </tr>\n",
              "  </tbody>\n",
              "</table>\n",
              "</div>\n",
              "      <button class=\"colab-df-convert\" onclick=\"convertToInteractive('df-749cdd7a-f915-4e27-919a-830c5b56e8b1')\"\n",
              "              title=\"Convert this dataframe to an interactive table.\"\n",
              "              style=\"display:none;\">\n",
              "        \n",
              "  <svg xmlns=\"http://www.w3.org/2000/svg\" height=\"24px\"viewBox=\"0 0 24 24\"\n",
              "       width=\"24px\">\n",
              "    <path d=\"M0 0h24v24H0V0z\" fill=\"none\"/>\n",
              "    <path d=\"M18.56 5.44l.94 2.06.94-2.06 2.06-.94-2.06-.94-.94-2.06-.94 2.06-2.06.94zm-11 1L8.5 8.5l.94-2.06 2.06-.94-2.06-.94L8.5 2.5l-.94 2.06-2.06.94zm10 10l.94 2.06.94-2.06 2.06-.94-2.06-.94-.94-2.06-.94 2.06-2.06.94z\"/><path d=\"M17.41 7.96l-1.37-1.37c-.4-.4-.92-.59-1.43-.59-.52 0-1.04.2-1.43.59L10.3 9.45l-7.72 7.72c-.78.78-.78 2.05 0 2.83L4 21.41c.39.39.9.59 1.41.59.51 0 1.02-.2 1.41-.59l7.78-7.78 2.81-2.81c.8-.78.8-2.07 0-2.86zM5.41 20L4 18.59l7.72-7.72 1.47 1.35L5.41 20z\"/>\n",
              "  </svg>\n",
              "      </button>\n",
              "      \n",
              "  <style>\n",
              "    .colab-df-container {\n",
              "      display:flex;\n",
              "      flex-wrap:wrap;\n",
              "      gap: 12px;\n",
              "    }\n",
              "\n",
              "    .colab-df-convert {\n",
              "      background-color: #E8F0FE;\n",
              "      border: none;\n",
              "      border-radius: 50%;\n",
              "      cursor: pointer;\n",
              "      display: none;\n",
              "      fill: #1967D2;\n",
              "      height: 32px;\n",
              "      padding: 0 0 0 0;\n",
              "      width: 32px;\n",
              "    }\n",
              "\n",
              "    .colab-df-convert:hover {\n",
              "      background-color: #E2EBFA;\n",
              "      box-shadow: 0px 1px 2px rgba(60, 64, 67, 0.3), 0px 1px 3px 1px rgba(60, 64, 67, 0.15);\n",
              "      fill: #174EA6;\n",
              "    }\n",
              "\n",
              "    [theme=dark] .colab-df-convert {\n",
              "      background-color: #3B4455;\n",
              "      fill: #D2E3FC;\n",
              "    }\n",
              "\n",
              "    [theme=dark] .colab-df-convert:hover {\n",
              "      background-color: #434B5C;\n",
              "      box-shadow: 0px 1px 3px 1px rgba(0, 0, 0, 0.15);\n",
              "      filter: drop-shadow(0px 1px 2px rgba(0, 0, 0, 0.3));\n",
              "      fill: #FFFFFF;\n",
              "    }\n",
              "  </style>\n",
              "\n",
              "      <script>\n",
              "        const buttonEl =\n",
              "          document.querySelector('#df-749cdd7a-f915-4e27-919a-830c5b56e8b1 button.colab-df-convert');\n",
              "        buttonEl.style.display =\n",
              "          google.colab.kernel.accessAllowed ? 'block' : 'none';\n",
              "\n",
              "        async function convertToInteractive(key) {\n",
              "          const element = document.querySelector('#df-749cdd7a-f915-4e27-919a-830c5b56e8b1');\n",
              "          const dataTable =\n",
              "            await google.colab.kernel.invokeFunction('convertToInteractive',\n",
              "                                                     [key], {});\n",
              "          if (!dataTable) return;\n",
              "\n",
              "          const docLinkHtml = 'Like what you see? Visit the ' +\n",
              "            '<a target=\"_blank\" href=https://colab.research.google.com/notebooks/data_table.ipynb>data table notebook</a>'\n",
              "            + ' to learn more about interactive tables.';\n",
              "          element.innerHTML = '';\n",
              "          dataTable['output_type'] = 'display_data';\n",
              "          await google.colab.output.renderOutput(dataTable, element);\n",
              "          const docLink = document.createElement('div');\n",
              "          docLink.innerHTML = docLinkHtml;\n",
              "          element.appendChild(docLink);\n",
              "        }\n",
              "      </script>\n",
              "    </div>\n",
              "  </div>\n",
              "  "
            ]
          },
          "metadata": {},
          "execution_count": 178
        }
      ]
    },
    {
      "cell_type": "code",
      "source": [
        "filtered_df = sorted_df.loc[sorted_df['sentiment'] == 'Positif']\n",
        "print(filtered_df.head())"
      ],
      "metadata": {
        "colab": {
          "base_uri": "https://localhost:8080/",
          "height": 0
        },
        "id": "sAmUtor-o8OL",
        "outputId": "73da0ead-19ae-4644-8643-9696e547a84e"
      },
      "execution_count": 179,
      "outputs": [
        {
          "output_type": "stream",
          "name": "stdout",
          "text": [
            "            userName  score sentiment                  at  \\\n",
            "79    Dyan Nurhayati      5   Positif 2023-07-03 11:51:16   \n",
            "371       Mustari KM      5   Positif 2023-07-03 11:47:06   \n",
            "692  sarbeni ariston      5   Positif 2023-07-03 11:43:15   \n",
            "12     Eman Suherman      3   Positif 2023-07-03 11:11:10   \n",
            "91       Topo Susilo      3   Positif 2023-07-03 11:05:50   \n",
            "\n",
            "                                               content  \n",
            "79   Lumayan membantu belanja online, tapi sayang b...  \n",
            "371  Pertama kali beli langsung dapat barang palsu....  \n",
            "692  Sejauh ini lancar lancar saja. Saya tidak pern...  \n",
            "12   Makin Bersahabat dari sebelumnya. Cukup nyaman...  \n",
            "91   Berbelanja di shopee lebih baik dibayar setela...  \n"
          ]
        }
      ]
    },
    {
      "cell_type": "code",
      "source": [
        "!pip install Sastrawi"
      ],
      "metadata": {
        "colab": {
          "base_uri": "https://localhost:8080/",
          "height": 0
        },
        "id": "oGxcOMuHtYiM",
        "outputId": "2aba6fd7-67cf-4553-8158-d232576b7a68"
      },
      "execution_count": 180,
      "outputs": [
        {
          "output_type": "stream",
          "name": "stdout",
          "text": [
            "Requirement already satisfied: Sastrawi in /usr/local/lib/python3.10/dist-packages (1.0.1)\n"
          ]
        }
      ]
    },
    {
      "cell_type": "code",
      "source": [
        "import nltk\n",
        "from nltk.tokenize import word_tokenize\n",
        "from Sastrawi.Stemmer.StemmerFactory import StemmerFactory\n",
        "\n",
        "# Menginisialisasi tokenisasi menggunakan word_tokenize dari nltk\n",
        "nltk.download('punkt')  # Mengunduh data yang diperlukan untuk word_tokenize\n",
        "\n",
        "# Tokenisasi teks dalam kolom 'content'\n",
        "df_busu['tokens'] = df_busu['content'].apply(lambda x: word_tokenize(x))\n",
        "\n",
        "# Menampilkan hasil tokenisasi\n",
        "print(df_busu[['content', 'tokens']].head())"
      ],
      "metadata": {
        "colab": {
          "base_uri": "https://localhost:8080/",
          "height": 0
        },
        "id": "PWPfts4MqyM8",
        "outputId": "7eed8c67-de0f-41dc-b6de-45934aa43b8d"
      },
      "execution_count": 181,
      "outputs": [
        {
          "output_type": "stream",
          "name": "stderr",
          "text": [
            "[nltk_data] Downloading package punkt to /root/nltk_data...\n",
            "[nltk_data]   Package punkt is already up-to-date!\n"
          ]
        },
        {
          "output_type": "stream",
          "name": "stdout",
          "text": [
            "                                             content  \\\n",
            "0  Aplikasi semakin lelet & lemot, terlalu berat ...   \n",
            "1  Lambat, lemot, mau chat ke penjual sering gaga...   \n",
            "2  Tolong untuk pihak Shopee,Tolong untuk di eval...   \n",
            "3  Shopee sering lemot itu sudah biasa, tapi mala...   \n",
            "4  Aplikasi shopee itu bermasalah banget, mau pro...   \n",
            "\n",
            "                                              tokens  \n",
            "0  [Aplikasi, semakin, lelet, &, lemot, ,, terlal...  \n",
            "1  [Lambat, ,, lemot, ,, mau, chat, ke, penjual, ...  \n",
            "2  [Tolong, untuk, pihak, Shopee, ,, Tolong, untu...  \n",
            "3  [Shopee, sering, lemot, itu, sudah, biasa, ,, ...  \n",
            "4  [Aplikasi, shopee, itu, bermasalah, banget, ,,...  \n"
          ]
        }
      ]
    },
    {
      "cell_type": "code",
      "source": [
        "import string"
      ],
      "metadata": {
        "id": "W5rsW6QQc9_W"
      },
      "execution_count": 183,
      "outputs": []
    },
    {
      "cell_type": "code",
      "source": [
        "# Fungsi untuk memfilter kata\n",
        "def filter_words(text):\n",
        "    # Menghapus tanda baca dan simbol\n",
        "    text = text.translate(str.maketrans(\"\", \"\", string.punctuation))\n",
        "    # Mengubah huruf menjadi huruf kecil\n",
        "    text = text.lower()\n",
        "    return text"
      ],
      "metadata": {
        "id": "biI76gcNdAKk"
      },
      "execution_count": 184,
      "outputs": []
    },
    {
      "cell_type": "code",
      "source": [
        "# Memfilter kata pada kolom 'content'\n",
        "df_busu['filtered_content'] = df_busu['content'].apply(filter_words)"
      ],
      "metadata": {
        "id": "WeQ_Q3BxdHTs"
      },
      "execution_count": 185,
      "outputs": []
    },
    {
      "cell_type": "code",
      "source": [
        "# Menampilkan hasil\n",
        "print(df_busu[['content', 'filtered_content']].head())"
      ],
      "metadata": {
        "id": "fwWALTHddLsM",
        "outputId": "362b97ea-ad02-4d17-8533-65340296a57f",
        "colab": {
          "base_uri": "https://localhost:8080/",
          "height": 0
        }
      },
      "execution_count": 186,
      "outputs": [
        {
          "output_type": "stream",
          "name": "stdout",
          "text": [
            "                                             content  \\\n",
            "0  Aplikasi semakin lelet & lemot, terlalu berat ...   \n",
            "1  Lambat, lemot, mau chat ke penjual sering gaga...   \n",
            "2  Tolong untuk pihak Shopee,Tolong untuk di eval...   \n",
            "3  Shopee sering lemot itu sudah biasa, tapi mala...   \n",
            "4  Aplikasi shopee itu bermasalah banget, mau pro...   \n",
            "\n",
            "                                    filtered_content  \n",
            "0  aplikasi semakin lelet  lemot terlalu berat  s...  \n",
            "1  lambat lemot mau chat ke penjual sering gagal ...  \n",
            "2  tolong untuk pihak shopeetolong untuk di evalu...  \n",
            "3  shopee sering lemot itu sudah biasa tapi malam...  \n",
            "4  aplikasi shopee itu bermasalah banget mau pros...  \n"
          ]
        }
      ]
    },
    {
      "cell_type": "code",
      "source": [
        "keyword = 'lemot'\n",
        "filtered_df = df_busu[df_busu['tokens'].apply(lambda x: keyword in x)]\n",
        "print(filtered_df[['content', 'tokens']].head())"
      ],
      "metadata": {
        "colab": {
          "base_uri": "https://localhost:8080/",
          "height": 0
        },
        "id": "Xo-D_tXDreus",
        "outputId": "ef4094a5-4e26-4964-ddaf-523dc3d5e9b9"
      },
      "execution_count": 187,
      "outputs": [
        {
          "output_type": "stream",
          "name": "stdout",
          "text": [
            "                                             content  \\\n",
            "0  Aplikasi semakin lelet & lemot, terlalu berat ...   \n",
            "1  Lambat, lemot, mau chat ke penjual sering gaga...   \n",
            "2  Tolong untuk pihak Shopee,Tolong untuk di eval...   \n",
            "3  Shopee sering lemot itu sudah biasa, tapi mala...   \n",
            "6  Aplikasi lemot berat boros ram,mau cek out jd ...   \n",
            "\n",
            "                                              tokens  \n",
            "0  [Aplikasi, semakin, lelet, &, lemot, ,, terlal...  \n",
            "1  [Lambat, ,, lemot, ,, mau, chat, ke, penjual, ...  \n",
            "2  [Tolong, untuk, pihak, Shopee, ,, Tolong, untu...  \n",
            "3  [Shopee, sering, lemot, itu, sudah, biasa, ,, ...  \n",
            "6  [Aplikasi, lemot, berat, boros, ram, ,, mau, c...  \n"
          ]
        }
      ]
    },
    {
      "cell_type": "code",
      "source": [
        "stemmer = StemmerFactory().create_stemmer()"
      ],
      "metadata": {
        "id": "vNugT_sesgg0"
      },
      "execution_count": 188,
      "outputs": []
    },
    {
      "cell_type": "code",
      "source": [
        "df_busu['stemmed_tokens'] = df_busu['tokens'].apply(lambda x: [stemmer.stem(token) for token in x])"
      ],
      "metadata": {
        "id": "wBMjFametm5U"
      },
      "execution_count": 189,
      "outputs": []
    },
    {
      "cell_type": "code",
      "source": [
        "print(df_busu[['content', 'stemmed_tokens']].head())"
      ],
      "metadata": {
        "id": "Mr2XBYzz6kV3",
        "outputId": "b97d692d-845d-472b-88ee-4d4ca0651d17",
        "colab": {
          "base_uri": "https://localhost:8080/",
          "height": 0
        }
      },
      "execution_count": 190,
      "outputs": [
        {
          "output_type": "stream",
          "name": "stdout",
          "text": [
            "                                             content  \\\n",
            "0  Aplikasi semakin lelet & lemot, terlalu berat ...   \n",
            "1  Lambat, lemot, mau chat ke penjual sering gaga...   \n",
            "2  Tolong untuk pihak Shopee,Tolong untuk di eval...   \n",
            "3  Shopee sering lemot itu sudah biasa, tapi mala...   \n",
            "4  Aplikasi shopee itu bermasalah banget, mau pro...   \n",
            "\n",
            "                                      stemmed_tokens  \n",
            "0  [aplikasi, makin, lelet, , lot, , terlalu, ber...  \n",
            "1  [lambat, , lot, , mau, chat, ke, jual, sering,...  \n",
            "2  [tolong, untuk, pihak, shopee, , tolong, untuk...  \n",
            "3  [shopee, sering, lot, itu, sudah, biasa, , tap...  \n",
            "4  [aplikasi, shopee, itu, masalah, banget, , mau...  \n"
          ]
        }
      ]
    },
    {
      "cell_type": "markdown",
      "source": [
        "**Algoritma KNN**"
      ],
      "metadata": {
        "id": "A5FO0dVxnKai"
      }
    },
    {
      "cell_type": "code",
      "source": [
        "from sklearn.model_selection import train_test_split\n",
        "from sklearn.feature_extraction.text import TfidfVectorizer\n",
        "from sklearn.neighbors import KNeighborsClassifier\n",
        "from sklearn.metrics import classification_report\n",
        "from sklearn.metrics import accuracy_score"
      ],
      "metadata": {
        "id": "Nsl7R9mjm40O"
      },
      "execution_count": 360,
      "outputs": []
    },
    {
      "cell_type": "code",
      "source": [
        "# Mengambil 1000 dataset pertama\n",
        "df_subset = df_busu.head(1000)"
      ],
      "metadata": {
        "id": "modwFJPAJz9G"
      },
      "execution_count": 361,
      "outputs": []
    },
    {
      "cell_type": "code",
      "source": [
        "# Mengambil kolom yang dibutuhkan (misalnya, 'stemmed_tokens' dan 'sentiment')\n",
        "data = df_busu[['stemmed_tokens', 'sentiment']]"
      ],
      "metadata": {
        "id": "Hr15rWD7m9cL"
      },
      "execution_count": 362,
      "outputs": []
    },
    {
      "cell_type": "code",
      "source": [
        "# Menggabungkan token-token dalam list menjadi satu string\n",
        "data['text'] = data['stemmed_tokens'].apply(lambda x: ' '.join(x))"
      ],
      "metadata": {
        "colab": {
          "base_uri": "https://localhost:8080/",
          "height": 0
        },
        "id": "p_6QhUMinmq-",
        "outputId": "395327bb-87b0-4159-9eee-98c8af492829"
      },
      "execution_count": 363,
      "outputs": [
        {
          "output_type": "stream",
          "name": "stderr",
          "text": [
            "<ipython-input-363-6329eef40417>:2: SettingWithCopyWarning: \n",
            "A value is trying to be set on a copy of a slice from a DataFrame.\n",
            "Try using .loc[row_indexer,col_indexer] = value instead\n",
            "\n",
            "See the caveats in the documentation: https://pandas.pydata.org/pandas-docs/stable/user_guide/indexing.html#returning-a-view-versus-a-copy\n",
            "  data['text'] = data['stemmed_tokens'].apply(lambda x: ' '.join(x))\n"
          ]
        }
      ]
    },
    {
      "cell_type": "code",
      "source": [
        "# Memisahkan fitur (X) dan label (y)\n",
        "X = df_subset['stemmed_tokens']\n",
        "y = df_subset['sentiment']"
      ],
      "metadata": {
        "id": "0gIPeS59nC1r"
      },
      "execution_count": 364,
      "outputs": []
    },
    {
      "cell_type": "code",
      "source": [
        "# Membagi data menjadi data pelatihan dan data pengujian\n",
        "X_train, X_test, y_train, y_test = train_test_split(X, y, test_size=0.2, random_state=42)"
      ],
      "metadata": {
        "id": "AnVRhcMnnH3r"
      },
      "execution_count": 365,
      "outputs": []
    },
    {
      "cell_type": "code",
      "source": [
        "# Membangun vektor fitur menggunakan TF-IDF\n",
        "vectorizer = TfidfVectorizer()\n",
        "X_train_vectorized = vectorizer.fit_transform(X_train.astype('U'))  # Ubah X_train menjadi format string\n",
        "X_test_vectorized = vectorizer.transform(X_test.astype('U'))  # Ubah X_test menjadi format string"
      ],
      "metadata": {
        "id": "0jnErmGJn6WF"
      },
      "execution_count": 366,
      "outputs": []
    },
    {
      "cell_type": "code",
      "source": [
        "# Melatih model KNN\n",
        "k = 5  # Jumlah tetangga terdekat yang digunakan\n",
        "knn = KNeighborsClassifier(n_neighbors=k)\n",
        "knn.fit(X_train_vectorized, y_train)"
      ],
      "metadata": {
        "colab": {
          "base_uri": "https://localhost:8080/",
          "height": 74
        },
        "id": "ltDLic7QoZaF",
        "outputId": "757e5ba0-dded-46d4-bcec-b55a5859efd7"
      },
      "execution_count": 367,
      "outputs": [
        {
          "output_type": "execute_result",
          "data": {
            "text/plain": [
              "KNeighborsClassifier()"
            ],
            "text/html": [
              "<style>#sk-container-id-24 {color: black;background-color: white;}#sk-container-id-24 pre{padding: 0;}#sk-container-id-24 div.sk-toggleable {background-color: white;}#sk-container-id-24 label.sk-toggleable__label {cursor: pointer;display: block;width: 100%;margin-bottom: 0;padding: 0.3em;box-sizing: border-box;text-align: center;}#sk-container-id-24 label.sk-toggleable__label-arrow:before {content: \"▸\";float: left;margin-right: 0.25em;color: #696969;}#sk-container-id-24 label.sk-toggleable__label-arrow:hover:before {color: black;}#sk-container-id-24 div.sk-estimator:hover label.sk-toggleable__label-arrow:before {color: black;}#sk-container-id-24 div.sk-toggleable__content {max-height: 0;max-width: 0;overflow: hidden;text-align: left;background-color: #f0f8ff;}#sk-container-id-24 div.sk-toggleable__content pre {margin: 0.2em;color: black;border-radius: 0.25em;background-color: #f0f8ff;}#sk-container-id-24 input.sk-toggleable__control:checked~div.sk-toggleable__content {max-height: 200px;max-width: 100%;overflow: auto;}#sk-container-id-24 input.sk-toggleable__control:checked~label.sk-toggleable__label-arrow:before {content: \"▾\";}#sk-container-id-24 div.sk-estimator input.sk-toggleable__control:checked~label.sk-toggleable__label {background-color: #d4ebff;}#sk-container-id-24 div.sk-label input.sk-toggleable__control:checked~label.sk-toggleable__label {background-color: #d4ebff;}#sk-container-id-24 input.sk-hidden--visually {border: 0;clip: rect(1px 1px 1px 1px);clip: rect(1px, 1px, 1px, 1px);height: 1px;margin: -1px;overflow: hidden;padding: 0;position: absolute;width: 1px;}#sk-container-id-24 div.sk-estimator {font-family: monospace;background-color: #f0f8ff;border: 1px dotted black;border-radius: 0.25em;box-sizing: border-box;margin-bottom: 0.5em;}#sk-container-id-24 div.sk-estimator:hover {background-color: #d4ebff;}#sk-container-id-24 div.sk-parallel-item::after {content: \"\";width: 100%;border-bottom: 1px solid gray;flex-grow: 1;}#sk-container-id-24 div.sk-label:hover label.sk-toggleable__label {background-color: #d4ebff;}#sk-container-id-24 div.sk-serial::before {content: \"\";position: absolute;border-left: 1px solid gray;box-sizing: border-box;top: 0;bottom: 0;left: 50%;z-index: 0;}#sk-container-id-24 div.sk-serial {display: flex;flex-direction: column;align-items: center;background-color: white;padding-right: 0.2em;padding-left: 0.2em;position: relative;}#sk-container-id-24 div.sk-item {position: relative;z-index: 1;}#sk-container-id-24 div.sk-parallel {display: flex;align-items: stretch;justify-content: center;background-color: white;position: relative;}#sk-container-id-24 div.sk-item::before, #sk-container-id-24 div.sk-parallel-item::before {content: \"\";position: absolute;border-left: 1px solid gray;box-sizing: border-box;top: 0;bottom: 0;left: 50%;z-index: -1;}#sk-container-id-24 div.sk-parallel-item {display: flex;flex-direction: column;z-index: 1;position: relative;background-color: white;}#sk-container-id-24 div.sk-parallel-item:first-child::after {align-self: flex-end;width: 50%;}#sk-container-id-24 div.sk-parallel-item:last-child::after {align-self: flex-start;width: 50%;}#sk-container-id-24 div.sk-parallel-item:only-child::after {width: 0;}#sk-container-id-24 div.sk-dashed-wrapped {border: 1px dashed gray;margin: 0 0.4em 0.5em 0.4em;box-sizing: border-box;padding-bottom: 0.4em;background-color: white;}#sk-container-id-24 div.sk-label label {font-family: monospace;font-weight: bold;display: inline-block;line-height: 1.2em;}#sk-container-id-24 div.sk-label-container {text-align: center;}#sk-container-id-24 div.sk-container {/* jupyter's `normalize.less` sets `[hidden] { display: none; }` but bootstrap.min.css set `[hidden] { display: none !important; }` so we also need the `!important` here to be able to override the default hidden behavior on the sphinx rendered scikit-learn.org. See: https://github.com/scikit-learn/scikit-learn/issues/21755 */display: inline-block !important;position: relative;}#sk-container-id-24 div.sk-text-repr-fallback {display: none;}</style><div id=\"sk-container-id-24\" class=\"sk-top-container\"><div class=\"sk-text-repr-fallback\"><pre>KNeighborsClassifier()</pre><b>In a Jupyter environment, please rerun this cell to show the HTML representation or trust the notebook. <br />On GitHub, the HTML representation is unable to render, please try loading this page with nbviewer.org.</b></div><div class=\"sk-container\" hidden><div class=\"sk-item\"><div class=\"sk-estimator sk-toggleable\"><input class=\"sk-toggleable__control sk-hidden--visually\" id=\"sk-estimator-id-24\" type=\"checkbox\" checked><label for=\"sk-estimator-id-24\" class=\"sk-toggleable__label sk-toggleable__label-arrow\">KNeighborsClassifier</label><div class=\"sk-toggleable__content\"><pre>KNeighborsClassifier()</pre></div></div></div></div></div>"
            ]
          },
          "metadata": {},
          "execution_count": 367
        }
      ]
    },
    {
      "cell_type": "code",
      "source": [
        "# Memprediksi label menggunakan data pengujian\n",
        "y_pred_knn = knn.predict(X_test_vectorized)"
      ],
      "metadata": {
        "id": "RKfWT0I2odIs"
      },
      "execution_count": 368,
      "outputs": []
    },
    {
      "cell_type": "code",
      "source": [
        "# Menampilkan laporan klasifikasi secara keseluruhan\n",
        "report_overall = classification_report(y_test, y_pred_knn, target_names=['Negatif', 'Positif'])\n",
        "print(\"Laporan Klasifikasi Keseluruhan:\")\n",
        "print(report_overall)"
      ],
      "metadata": {
        "colab": {
          "base_uri": "https://localhost:8080/",
          "height": 0
        },
        "id": "ieNQt9E-tkDv",
        "outputId": "3afcef44-bdae-4d51-e431-6d6476c2eb3c"
      },
      "execution_count": 369,
      "outputs": [
        {
          "output_type": "stream",
          "name": "stdout",
          "text": [
            "Laporan Klasifikasi Keseluruhan:\n",
            "              precision    recall  f1-score   support\n",
            "\n",
            "     Negatif       0.77      0.91      0.84       140\n",
            "     Positif       0.65      0.37      0.47        60\n",
            "\n",
            "    accuracy                           0.75       200\n",
            "   macro avg       0.71      0.64      0.65       200\n",
            "weighted avg       0.73      0.75      0.73       200\n",
            "\n"
          ]
        }
      ]
    },
    {
      "cell_type": "code",
      "source": [
        "# Menghitung akurasi\n",
        "accuracy_knn = accuracy_score(y_test, y_pred_knn)\n",
        "print(\"Akurasi: {:.2f}%\".format(accuracy * 100))"
      ],
      "metadata": {
        "colab": {
          "base_uri": "https://localhost:8080/",
          "height": 0
        },
        "id": "9AgnVmTCx6EE",
        "outputId": "7517339d-6b94-407f-ef85-ab37f3ca7c50"
      },
      "execution_count": 370,
      "outputs": [
        {
          "output_type": "stream",
          "name": "stdout",
          "text": [
            "Akurasi: 71.50%\n"
          ]
        }
      ]
    },
    {
      "cell_type": "markdown",
      "source": [
        "**Metode Naive Bayes**"
      ],
      "metadata": {
        "id": "vcr_zaJyx93Q"
      }
    },
    {
      "cell_type": "code",
      "source": [
        "from sklearn.naive_bayes import MultinomialNB\n",
        "from sklearn.metrics import accuracy_score\n",
        "from sklearn.model_selection import train_test_split\n",
        "from sklearn.feature_extraction.text import TfidfVectorizer\n",
        "from sklearn.metrics import classification_report"
      ],
      "metadata": {
        "id": "B09AvS7L35R4"
      },
      "execution_count": 371,
      "outputs": []
    },
    {
      "cell_type": "code",
      "source": [
        "# Mengambil 1000 dataset pertama\n",
        "df_subset = df_busu.head(1000)"
      ],
      "metadata": {
        "id": "OyqtoROiGuVY"
      },
      "execution_count": 372,
      "outputs": []
    },
    {
      "cell_type": "code",
      "source": [
        "# Memisahkan fitur (X) dan label (y)\n",
        "X = df_subset['stemmed_tokens']\n",
        "y = df_subset['sentiment']"
      ],
      "metadata": {
        "id": "wvRDVToLLLYE"
      },
      "execution_count": 373,
      "outputs": []
    },
    {
      "cell_type": "code",
      "source": [
        "# Bagi data menjadi data pelatihan dan data pengujian\n",
        "X_train, X_test, y_train, y_test = train_test_split(df_busu['content'], df_busu['sentiment'], test_size=0.2, random_state=42)\n"
      ],
      "metadata": {
        "id": "rN1yf8DL4mL5"
      },
      "execution_count": 374,
      "outputs": []
    },
    {
      "cell_type": "code",
      "source": [
        "# Bangun vektor fitur menggunakan TF-IDF\n",
        "vectorizer = TfidfVectorizer()\n",
        "X_train_vectorized = vectorizer.fit_transform(X_train)\n",
        "X_test_vectorized = vectorizer.transform(X_test)"
      ],
      "metadata": {
        "id": "Hc1t5D9i8rUD"
      },
      "execution_count": 375,
      "outputs": []
    },
    {
      "cell_type": "code",
      "source": [
        "# Latih model Naive Bayes\n",
        "naive_bayes = MultinomialNB()\n",
        "naive_bayes.fit(X_train_vectorized, y_train)"
      ],
      "metadata": {
        "colab": {
          "base_uri": "https://localhost:8080/",
          "height": 74
        },
        "id": "Myijy8728u30",
        "outputId": "53e37bb2-773b-4d8a-af69-d5d3f0eb430a"
      },
      "execution_count": 376,
      "outputs": [
        {
          "output_type": "execute_result",
          "data": {
            "text/plain": [
              "MultinomialNB()"
            ],
            "text/html": [
              "<style>#sk-container-id-25 {color: black;background-color: white;}#sk-container-id-25 pre{padding: 0;}#sk-container-id-25 div.sk-toggleable {background-color: white;}#sk-container-id-25 label.sk-toggleable__label {cursor: pointer;display: block;width: 100%;margin-bottom: 0;padding: 0.3em;box-sizing: border-box;text-align: center;}#sk-container-id-25 label.sk-toggleable__label-arrow:before {content: \"▸\";float: left;margin-right: 0.25em;color: #696969;}#sk-container-id-25 label.sk-toggleable__label-arrow:hover:before {color: black;}#sk-container-id-25 div.sk-estimator:hover label.sk-toggleable__label-arrow:before {color: black;}#sk-container-id-25 div.sk-toggleable__content {max-height: 0;max-width: 0;overflow: hidden;text-align: left;background-color: #f0f8ff;}#sk-container-id-25 div.sk-toggleable__content pre {margin: 0.2em;color: black;border-radius: 0.25em;background-color: #f0f8ff;}#sk-container-id-25 input.sk-toggleable__control:checked~div.sk-toggleable__content {max-height: 200px;max-width: 100%;overflow: auto;}#sk-container-id-25 input.sk-toggleable__control:checked~label.sk-toggleable__label-arrow:before {content: \"▾\";}#sk-container-id-25 div.sk-estimator input.sk-toggleable__control:checked~label.sk-toggleable__label {background-color: #d4ebff;}#sk-container-id-25 div.sk-label input.sk-toggleable__control:checked~label.sk-toggleable__label {background-color: #d4ebff;}#sk-container-id-25 input.sk-hidden--visually {border: 0;clip: rect(1px 1px 1px 1px);clip: rect(1px, 1px, 1px, 1px);height: 1px;margin: -1px;overflow: hidden;padding: 0;position: absolute;width: 1px;}#sk-container-id-25 div.sk-estimator {font-family: monospace;background-color: #f0f8ff;border: 1px dotted black;border-radius: 0.25em;box-sizing: border-box;margin-bottom: 0.5em;}#sk-container-id-25 div.sk-estimator:hover {background-color: #d4ebff;}#sk-container-id-25 div.sk-parallel-item::after {content: \"\";width: 100%;border-bottom: 1px solid gray;flex-grow: 1;}#sk-container-id-25 div.sk-label:hover label.sk-toggleable__label {background-color: #d4ebff;}#sk-container-id-25 div.sk-serial::before {content: \"\";position: absolute;border-left: 1px solid gray;box-sizing: border-box;top: 0;bottom: 0;left: 50%;z-index: 0;}#sk-container-id-25 div.sk-serial {display: flex;flex-direction: column;align-items: center;background-color: white;padding-right: 0.2em;padding-left: 0.2em;position: relative;}#sk-container-id-25 div.sk-item {position: relative;z-index: 1;}#sk-container-id-25 div.sk-parallel {display: flex;align-items: stretch;justify-content: center;background-color: white;position: relative;}#sk-container-id-25 div.sk-item::before, #sk-container-id-25 div.sk-parallel-item::before {content: \"\";position: absolute;border-left: 1px solid gray;box-sizing: border-box;top: 0;bottom: 0;left: 50%;z-index: -1;}#sk-container-id-25 div.sk-parallel-item {display: flex;flex-direction: column;z-index: 1;position: relative;background-color: white;}#sk-container-id-25 div.sk-parallel-item:first-child::after {align-self: flex-end;width: 50%;}#sk-container-id-25 div.sk-parallel-item:last-child::after {align-self: flex-start;width: 50%;}#sk-container-id-25 div.sk-parallel-item:only-child::after {width: 0;}#sk-container-id-25 div.sk-dashed-wrapped {border: 1px dashed gray;margin: 0 0.4em 0.5em 0.4em;box-sizing: border-box;padding-bottom: 0.4em;background-color: white;}#sk-container-id-25 div.sk-label label {font-family: monospace;font-weight: bold;display: inline-block;line-height: 1.2em;}#sk-container-id-25 div.sk-label-container {text-align: center;}#sk-container-id-25 div.sk-container {/* jupyter's `normalize.less` sets `[hidden] { display: none; }` but bootstrap.min.css set `[hidden] { display: none !important; }` so we also need the `!important` here to be able to override the default hidden behavior on the sphinx rendered scikit-learn.org. See: https://github.com/scikit-learn/scikit-learn/issues/21755 */display: inline-block !important;position: relative;}#sk-container-id-25 div.sk-text-repr-fallback {display: none;}</style><div id=\"sk-container-id-25\" class=\"sk-top-container\"><div class=\"sk-text-repr-fallback\"><pre>MultinomialNB()</pre><b>In a Jupyter environment, please rerun this cell to show the HTML representation or trust the notebook. <br />On GitHub, the HTML representation is unable to render, please try loading this page with nbviewer.org.</b></div><div class=\"sk-container\" hidden><div class=\"sk-item\"><div class=\"sk-estimator sk-toggleable\"><input class=\"sk-toggleable__control sk-hidden--visually\" id=\"sk-estimator-id-25\" type=\"checkbox\" checked><label for=\"sk-estimator-id-25\" class=\"sk-toggleable__label sk-toggleable__label-arrow\">MultinomialNB</label><div class=\"sk-toggleable__content\"><pre>MultinomialNB()</pre></div></div></div></div></div>"
            ]
          },
          "metadata": {},
          "execution_count": 376
        }
      ]
    },
    {
      "cell_type": "code",
      "source": [
        "# Lakukan prediksi pada data pengujian\n",
        "y_pred_nb = naive_bayes.predict(X_test_vectorized)"
      ],
      "metadata": {
        "id": "PsYJpDI28yYt"
      },
      "execution_count": 377,
      "outputs": []
    },
    {
      "cell_type": "code",
      "source": [
        "#Menampilkan laporan klasifikasi keseluruhan\n",
        "report_overall = classification_report(y_test, y_pred_nb, target_names=['Negatif', 'Positif'])\n",
        "print(\"Laporan Klasifikasi Keseluruhan:\")\n",
        "print(report_overall)"
      ],
      "metadata": {
        "colab": {
          "base_uri": "https://localhost:8080/",
          "height": 0
        },
        "id": "BfzWrc_-90NV",
        "outputId": "b270b323-b70d-427a-a2b3-5879b632b547"
      },
      "execution_count": 378,
      "outputs": [
        {
          "output_type": "stream",
          "name": "stdout",
          "text": [
            "Laporan Klasifikasi Keseluruhan:\n",
            "              precision    recall  f1-score   support\n",
            "\n",
            "     Negatif       0.70      1.00      0.82       260\n",
            "     Positif       1.00      0.19      0.31       140\n",
            "\n",
            "    accuracy                           0.71       400\n",
            "   macro avg       0.85      0.59      0.57       400\n",
            "weighted avg       0.80      0.71      0.64       400\n",
            "\n"
          ]
        }
      ]
    },
    {
      "cell_type": "code",
      "source": [
        "# Hitung akurasi\n",
        "accuracy_nb = accuracy_score(y_test, y_pred_nb)\n",
        "print(\"Akurasi: {:.2f}%\".format(accuracy * 100))"
      ],
      "metadata": {
        "colab": {
          "base_uri": "https://localhost:8080/",
          "height": 0
        },
        "id": "w4meSlxG82DC",
        "outputId": "eb199496-9e66-4f8c-c6c2-3664cbc96b86"
      },
      "execution_count": 379,
      "outputs": [
        {
          "output_type": "stream",
          "name": "stdout",
          "text": [
            "Akurasi: 71.50%\n"
          ]
        }
      ]
    },
    {
      "cell_type": "markdown",
      "source": [
        "**Komparasi pada model KNN dan Naive Bayes**"
      ],
      "metadata": {
        "id": "0wPHgADtAJa0"
      }
    },
    {
      "cell_type": "code",
      "source": [
        "import matplotlib.pyplot as plt\n",
        "%matplotlib inline"
      ],
      "metadata": {
        "id": "o90Pp0yVNr77"
      },
      "execution_count": 380,
      "outputs": []
    },
    {
      "cell_type": "code",
      "source": [
        "positive_count = df_subset[df_subset['sentiment'] == 'Positif'].shape[0]\n",
        "negative_count = df_subset[df_subset['sentiment'] == 'Negatif'].shape[0]\n",
        "\n",
        "print(\"Jumlah Ulasan Positif:\", positive_count)\n",
        "print(\"Jumlah Ulasan Negatif:\", negative_count)"
      ],
      "metadata": {
        "colab": {
          "base_uri": "https://localhost:8080/",
          "height": 0
        },
        "id": "HMgbLlBxNazL",
        "outputId": "060cfba6-1e63-4e05-85e1-6626eb31bb56"
      },
      "execution_count": 357,
      "outputs": [
        {
          "output_type": "stream",
          "name": "stdout",
          "text": [
            "Jumlah Ulasan Positif: 319\n",
            "Jumlah Ulasan Negatif: 681\n"
          ]
        }
      ]
    },
    {
      "cell_type": "code",
      "source": [
        "# Menyiapkan data untuk grafik\n",
        "models = ['KNN', 'Naive Bayes']\n",
        "accuracies = [accuracy_knn, accuracy_nb]"
      ],
      "metadata": {
        "id": "rkBF4aziOzXN"
      },
      "execution_count": 382,
      "outputs": []
    },
    {
      "cell_type": "code",
      "source": [
        "# Membuat grafik\n",
        "fig, ax1 = plt.subplots()\n",
        "\n",
        "# Menggambar bar grafik akurasi\n",
        "bar1 = ax1.bar(models, accuracies, color='skyblue')\n",
        "ax1.set_xlabel('Model')\n",
        "ax1.set_ylabel('Akurasi')\n",
        "ax1.set_ylim(0, 1)\n",
        "\n",
        "# Menambahkan label persentase pada batang grafik akurasi\n",
        "for bar in bar1:\n",
        "    height = bar.get_height()\n",
        "    ax1.text(bar.get_x() + bar.get_width() / 2, height, f'{height*100:.2f}%', ha='center', va='bottom')\n",
        "\n",
        "# Menghitung presentase akurasi\n",
        "total = sum(accuracies)\n",
        "percentages = [(acc / total) * 100 for acc in accuracies]\n",
        "\n",
        "# Menyiapkan data untuk grafik persentase\n",
        "ax2 = ax1.twinx()\n",
        "ax2.plot(models, percentages, marker='o', color='green', linestyle='--')\n",
        "ax2.set_ylabel('Persentase')\n",
        "ax2.set_ylim(0, 100)\n",
        "\n",
        "# Menambahkan label persentase pada garis grafik persentase\n",
        "for i, percentage in enumerate(percentages):\n",
        "    ax2.text(models[i], percentage + 2, f'{percentage:.2f}%', ha='center', va='bottom')\n",
        "\n",
        "# Menampilkan grafik\n",
        "plt.title('Komparasi Akurasi dan Persentase')\n",
        "plt.show()"
      ],
      "metadata": {
        "colab": {
          "base_uri": "https://localhost:8080/",
          "height": 472
        },
        "id": "JYhfgdhQQSkv",
        "outputId": "197b0a15-4112-4a42-b470-d890a6ab8b66"
      },
      "execution_count": 388,
      "outputs": [
        {
          "output_type": "display_data",
          "data": {
            "text/plain": [
              "<Figure size 640x480 with 2 Axes>"
            ],
            "image/png": "[encoded data removed]"
          },
          "metadata": {}
        }
      ]
    }
  ]
}