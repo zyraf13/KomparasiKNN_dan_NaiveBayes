{
  "nbformat": 4,
  "nbformat_minor": 0,
  "metadata": {
    "colab": {
      "provenance": [],
      "include_colab_link": true
    },
    "kernelspec": {
      "name": "python3",
      "display_name": "Python 3"
    },
    "language_info": {
      "name": "python"
    }
  },
  "cells": [
    {
      "cell_type": "markdown",
      "metadata": {
        "id": "view-in-github",
        "colab_type": "text"
      },
      "source": [
        "<a href=\"https://colab.research.google.com/github/zyraf13/KomparasiKNN_dan_NaiveBayes/blob/main/Penelitian_Data_Mining_New.ipynb\" target=\"_parent\"><img src=\"https://colab.research.google.com/assets/colab-badge.svg\" alt=\"Open In Colab\"/></a>"
      ]
    },
    {
      "cell_type": "code",
      "metadata": {
        "id": "2DnwN8kziiHQ",
        "colab": {
          "base_uri": "https://localhost:8080/"
        },
        "outputId": "9e5735bb-fef0-4753-99fb-c4d601734a68"
      },
      "source": [
        "#Referensi: https://www.linkedin.com/pulse/how-scrape-google-play-reviews-4-simple-steps-using-python-kundi/\n",
        "\n",
        "!pip install google-play-scraper"
      ],
      "execution_count": 2,
      "outputs": [
        {
          "output_type": "stream",
          "name": "stdout",
          "text": [
            "Collecting google-play-scraper\n",
            "  Downloading google_play_scraper-1.2.4-py3-none-any.whl (28 kB)\n",
            "Installing collected packages: google-play-scraper\n",
            "Successfully installed google-play-scraper-1.2.4\n"
          ]
        }
      ]
    },
    {
      "cell_type": "code",
      "metadata": {
        "id": "e9klApCuGeKQ"
      },
      "source": [
        "from google_play_scraper import app\n",
        "\n",
        "import pandas as pd\n",
        "\n",
        "import numpy as np"
      ],
      "execution_count": 38,
      "outputs": []
    },
    {
      "cell_type": "code",
      "source": [],
      "metadata": {
        "id": "BQutbg2a5Vxj"
      },
      "execution_count": 39,
      "outputs": []
    },
    {
      "cell_type": "code",
      "metadata": {
        "id": "IyazUxVxKCEB"
      },
      "source": [
        "#Scrape desired number of reviews\n",
        "#Run kode ini jika ingin scrape data dengan jumlah tertentu. Ganti (misal, ingin scrape sejumlah 1000, maka ganti kode , count = 1000 )\n",
        "\n",
        "from google_play_scraper import Sort, reviews\n",
        "\n",
        "result, continuation_token = reviews(\n",
        "    'com.shopee.id',\n",
        "    lang='id',\n",
        "    country='id',\n",
        "    sort=Sort.MOST_RELEVANT,\n",
        "    count=2000,\n",
        "    filter_score_with=None\n",
        ")"
      ],
      "execution_count": 9,
      "outputs": []
    },
    {
      "cell_type": "code",
      "source": [
        "# Membaca file CSV\n",
        "df = pd.read_csv('scrapped_data.csv')"
      ],
      "metadata": {
        "id": "i9-Qqlcv5BZb"
      },
      "execution_count": 39,
      "outputs": []
    },
    {
      "cell_type": "code",
      "source": [
        "# Display the data\n",
        "print(df.head())\n"
      ],
      "metadata": {
        "colab": {
          "base_uri": "https://localhost:8080/"
        },
        "id": "P0HoI3godnO4",
        "outputId": "c8f0e450-e897-427c-d5da-2baecbcf4b90"
      },
      "execution_count": 35,
      "outputs": [
        {
          "output_type": "stream",
          "name": "stdout",
          "text": [
            "        userName  score                   at  \\\n",
            "0     Aisah Aizz      5  2023-05-25 07:56:23   \n",
            "1       Noel Joe      1  2023-05-24 19:19:11   \n",
            "2  Wahyu Firdaus      5  2023-05-24 15:44:35   \n",
            "3  Ayuu main yuk      1  2023-05-24 12:52:16   \n",
            "4           ulfa      1  2023-05-24 11:01:05   \n",
            "\n",
            "                                             content sentiment  \\\n",
            "0  Kenapa spaylater dan spinjaman ngga bisa dibuk...   Positif   \n",
            "1  Terlalu banyak fitur fitur SAMPAH👎 dan video² ...   Negatif   \n",
            "2  Gratis Ongkir Sama Diskon Gak Ada Ya Lalu Saya...   Positif   \n",
            "3  Jelek banget! Aplikasi lambat kalau di buka pa...   Negatif   \n",
            "4  Benci banget setiap buka shopee kenapa lemot n...   Negatif   \n",
            "\n",
            "                                              tokens  \\\n",
            "0  [Kenapa, spaylater, dan, spinjaman, ngga, bisa...   \n",
            "1  [Terlalu, banyak, fitur, fitur, SAMPAH👎, dan, ...   \n",
            "2  [Gratis, Ongkir, Sama, Diskon, Gak, Ada, Ya, L...   \n",
            "3  [Jelek, banget, !, Aplikasi, lambat, kalau, di...   \n",
            "4  [Benci, banget, setiap, buka, shopee, kenapa, ...   \n",
            "\n",
            "                                    filtered_content  \n",
            "0  kenapa spaylater dan spinjaman ngga bisa dibuk...  \n",
            "1  terlalu banyak fitur fitur sampah👎 dan video² ...  \n",
            "2  gratis ongkir sama diskon gak ada ya lalu saya...  \n",
            "3  jelek banget aplikasi lambat kalau di buka pad...  \n",
            "4  benci banget setiap buka shopee kenapa lemot n...  \n"
          ]
        }
      ]
    },
    {
      "cell_type": "code",
      "metadata": {
        "id": "8ebsnHrfHWig",
        "colab": {
          "base_uri": "https://localhost:8080/",
          "height": 423
        },
        "outputId": "ef403b8b-8cce-418f-cfbf-4a72e2040627"
      },
      "source": [
        "df = pd.DataFrame(np.array(result),columns=['review'])\n",
        "\n",
        "df = df.join(pd.DataFrame(df.pop('review').tolist()))\n",
        "\n",
        "df.head()"
      ],
      "execution_count": 41,
      "outputs": [
        {
          "output_type": "execute_result",
          "data": {
            "text/plain": [
              "                               reviewId              userName  \\\n",
              "0  11ecf6f5-4b2c-4d6a-a4c4-065da547380a                 Ini H   \n",
              "1  4868ebce-e230-4912-95fa-08bd315c0b8b              Iwan Wid   \n",
              "2  4105b163-a600-48ed-a190-ef94f8cf6ad6               NEKOPOI   \n",
              "3  501ff873-b55c-44e7-b25e-b31a471e68eb  Lola Pertiwi Mulyadi   \n",
              "4  aa5c099b-8b2d-4cc3-8c85-1c345cdb3bdf             Epri Yadi   \n",
              "\n",
              "                                           userImage  \\\n",
              "0  https://play-lh.googleusercontent.com/a-/AD_cM...   \n",
              "1  https://play-lh.googleusercontent.com/a-/AD_cM...   \n",
              "2  https://play-lh.googleusercontent.com/a-/AD_cM...   \n",
              "3  https://play-lh.googleusercontent.com/a-/AD_cM...   \n",
              "4  https://play-lh.googleusercontent.com/a-/AD_cM...   \n",
              "\n",
              "                                             content  score  thumbsUpCount  \\\n",
              "0  Aplikasi semakin lelet & lemot, terlalu berat ...      1          10174   \n",
              "1  Barang yg dipesan, dikirim sesuai dengan pesan...      5             88   \n",
              "2  Aplikasi sangat lemot , Kadang ngefreez di lam...      1            499   \n",
              "3  Lambat, lemot, mau chat ke penjual sering gaga...      1           3456   \n",
              "4  Tolong untuk pihak Shopee,Tolong untuk di eval...      1           1927   \n",
              "\n",
              "  reviewCreatedVersion                  at  \\\n",
              "0              3.03.10 2023-06-14 05:41:39   \n",
              "1              3.04.20 2023-07-08 09:05:54   \n",
              "2              3.04.20 2023-07-06 14:58:45   \n",
              "3              3.03.10 2023-06-15 01:08:53   \n",
              "4              3.04.20 2023-06-29 06:39:11   \n",
              "\n",
              "                                        replyContent           repliedAt  \\\n",
              "0  hi ka, mkasi feedbacknya, maaf buat ga nyaman.... 2023-06-14 06:23:25   \n",
              "1  hi kak makasi buat bintang 5nya, maaf ya buat ... 2023-07-08 11:04:27   \n",
              "2  Hi kak, maaf banget ya atas kendalanya, mimin ... 2023-07-06 15:46:43   \n",
              "3  Hi kak, maaf ya atas kendala aplikasi lemot. M... 2023-06-15 02:16:11   \n",
              "4  Hai kak, maaf ya. Terkait kendala, mimin saran... 2023-06-29 07:18:27   \n",
              "\n",
              "  appVersion  \n",
              "0    3.03.10  \n",
              "1    3.04.20  \n",
              "2    3.04.20  \n",
              "3    3.03.10  \n",
              "4    3.04.20  "
            ],
            "text/html": [
              "\n",
              "  <div id=\"df-243ee07d-62fa-4d16-97a7-2f4780aad6dc\">\n",
              "    <div class=\"colab-df-container\">\n",
              "      <div>\n",
              "<style scoped>\n",
              "    .dataframe tbody tr th:only-of-type {\n",
              "        vertical-align: middle;\n",
              "    }\n",
              "\n",
              "    .dataframe tbody tr th {\n",
              "        vertical-align: top;\n",
              "    }\n",
              "\n",
              "    .dataframe thead th {\n",
              "        text-align: right;\n",
              "    }\n",
              "</style>\n",
              "<table border=\"1\" class=\"dataframe\">\n",
              "  <thead>\n",
              "    <tr style=\"text-align: right;\">\n",
              "      <th></th>\n",
              "      <th>reviewId</th>\n",
              "      <th>userName</th>\n",
              "      <th>userImage</th>\n",
              "      <th>content</th>\n",
              "      <th>score</th>\n",
              "      <th>thumbsUpCount</th>\n",
              "      <th>reviewCreatedVersion</th>\n",
              "      <th>at</th>\n",
              "      <th>replyContent</th>\n",
              "      <th>repliedAt</th>\n",
              "      <th>appVersion</th>\n",
              "    </tr>\n",
              "  </thead>\n",
              "  <tbody>\n",
              "    <tr>\n",
              "      <th>0</th>\n",
              "      <td>11ecf6f5-4b2c-4d6a-a4c4-065da547380a</td>\n",
              "      <td>Ini H</td>\n",
              "      <td>https://play-lh.googleusercontent.com/a-/AD_cM...</td>\n",
              "      <td>Aplikasi semakin lelet &amp; lemot, terlalu berat ...</td>\n",
              "      <td>1</td>\n",
              "      <td>10174</td>\n",
              "      <td>3.03.10</td>\n",
              "      <td>2023-06-14 05:41:39</td>\n",
              "      <td>hi ka, mkasi feedbacknya, maaf buat ga nyaman....</td>\n",
              "      <td>2023-06-14 06:23:25</td>\n",
              "      <td>3.03.10</td>\n",
              "    </tr>\n",
              "    <tr>\n",
              "      <th>1</th>\n",
              "      <td>4868ebce-e230-4912-95fa-08bd315c0b8b</td>\n",
              "      <td>Iwan Wid</td>\n",
              "      <td>https://play-lh.googleusercontent.com/a-/AD_cM...</td>\n",
              "      <td>Barang yg dipesan, dikirim sesuai dengan pesan...</td>\n",
              "      <td>5</td>\n",
              "      <td>88</td>\n",
              "      <td>3.04.20</td>\n",
              "      <td>2023-07-08 09:05:54</td>\n",
              "      <td>hi kak makasi buat bintang 5nya, maaf ya buat ...</td>\n",
              "      <td>2023-07-08 11:04:27</td>\n",
              "      <td>3.04.20</td>\n",
              "    </tr>\n",
              "    <tr>\n",
              "      <th>2</th>\n",
              "      <td>4105b163-a600-48ed-a190-ef94f8cf6ad6</td>\n",
              "      <td>NEKOPOI</td>\n",
              "      <td>https://play-lh.googleusercontent.com/a-/AD_cM...</td>\n",
              "      <td>Aplikasi sangat lemot , Kadang ngefreez di lam...</td>\n",
              "      <td>1</td>\n",
              "      <td>499</td>\n",
              "      <td>3.04.20</td>\n",
              "      <td>2023-07-06 14:58:45</td>\n",
              "      <td>Hi kak, maaf banget ya atas kendalanya, mimin ...</td>\n",
              "      <td>2023-07-06 15:46:43</td>\n",
              "      <td>3.04.20</td>\n",
              "    </tr>\n",
              "    <tr>\n",
              "      <th>3</th>\n",
              "      <td>501ff873-b55c-44e7-b25e-b31a471e68eb</td>\n",
              "      <td>Lola Pertiwi Mulyadi</td>\n",
              "      <td>https://play-lh.googleusercontent.com/a-/AD_cM...</td>\n",
              "      <td>Lambat, lemot, mau chat ke penjual sering gaga...</td>\n",
              "      <td>1</td>\n",
              "      <td>3456</td>\n",
              "      <td>3.03.10</td>\n",
              "      <td>2023-06-15 01:08:53</td>\n",
              "      <td>Hi kak, maaf ya atas kendala aplikasi lemot. M...</td>\n",
              "      <td>2023-06-15 02:16:11</td>\n",
              "      <td>3.03.10</td>\n",
              "    </tr>\n",
              "    <tr>\n",
              "      <th>4</th>\n",
              "      <td>aa5c099b-8b2d-4cc3-8c85-1c345cdb3bdf</td>\n",
              "      <td>Epri Yadi</td>\n",
              "      <td>https://play-lh.googleusercontent.com/a-/AD_cM...</td>\n",
              "      <td>Tolong untuk pihak Shopee,Tolong untuk di eval...</td>\n",
              "      <td>1</td>\n",
              "      <td>1927</td>\n",
              "      <td>3.04.20</td>\n",
              "      <td>2023-06-29 06:39:11</td>\n",
              "      <td>Hai kak, maaf ya. Terkait kendala, mimin saran...</td>\n",
              "      <td>2023-06-29 07:18:27</td>\n",
              "      <td>3.04.20</td>\n",
              "    </tr>\n",
              "  </tbody>\n",
              "</table>\n",
              "</div>\n",
              "      <button class=\"colab-df-convert\" onclick=\"convertToInteractive('df-243ee07d-62fa-4d16-97a7-2f4780aad6dc')\"\n",
              "              title=\"Convert this dataframe to an interactive table.\"\n",
              "              style=\"display:none;\">\n",
              "        \n",
              "  <svg xmlns=\"http://www.w3.org/2000/svg\" height=\"24px\"viewBox=\"0 0 24 24\"\n",
              "       width=\"24px\">\n",
              "    <path d=\"M0 0h24v24H0V0z\" fill=\"none\"/>\n",
              "    <path d=\"M18.56 5.44l.94 2.06.94-2.06 2.06-.94-2.06-.94-.94-2.06-.94 2.06-2.06.94zm-11 1L8.5 8.5l.94-2.06 2.06-.94-2.06-.94L8.5 2.5l-.94 2.06-2.06.94zm10 10l.94 2.06.94-2.06 2.06-.94-2.06-.94-.94-2.06-.94 2.06-2.06.94z\"/><path d=\"M17.41 7.96l-1.37-1.37c-.4-.4-.92-.59-1.43-.59-.52 0-1.04.2-1.43.59L10.3 9.45l-7.72 7.72c-.78.78-.78 2.05 0 2.83L4 21.41c.39.39.9.59 1.41.59.51 0 1.02-.2 1.41-.59l7.78-7.78 2.81-2.81c.8-.78.8-2.07 0-2.86zM5.41 20L4 18.59l7.72-7.72 1.47 1.35L5.41 20z\"/>\n",
              "  </svg>\n",
              "      </button>\n",
              "      \n",
              "  <style>\n",
              "    .colab-df-container {\n",
              "      display:flex;\n",
              "      flex-wrap:wrap;\n",
              "      gap: 12px;\n",
              "    }\n",
              "\n",
              "    .colab-df-convert {\n",
              "      background-color: #E8F0FE;\n",
              "      border: none;\n",
              "      border-radius: 50%;\n",
              "      cursor: pointer;\n",
              "      display: none;\n",
              "      fill: #1967D2;\n",
              "      height: 32px;\n",
              "      padding: 0 0 0 0;\n",
              "      width: 32px;\n",
              "    }\n",
              "\n",
              "    .colab-df-convert:hover {\n",
              "      background-color: #E2EBFA;\n",
              "      box-shadow: 0px 1px 2px rgba(60, 64, 67, 0.3), 0px 1px 3px 1px rgba(60, 64, 67, 0.15);\n",
              "      fill: #174EA6;\n",
              "    }\n",
              "\n",
              "    [theme=dark] .colab-df-convert {\n",
              "      background-color: #3B4455;\n",
              "      fill: #D2E3FC;\n",
              "    }\n",
              "\n",
              "    [theme=dark] .colab-df-convert:hover {\n",
              "      background-color: #434B5C;\n",
              "      box-shadow: 0px 1px 3px 1px rgba(0, 0, 0, 0.15);\n",
              "      filter: drop-shadow(0px 1px 2px rgba(0, 0, 0, 0.3));\n",
              "      fill: #FFFFFF;\n",
              "    }\n",
              "  </style>\n",
              "\n",
              "      <script>\n",
              "        const buttonEl =\n",
              "          document.querySelector('#df-243ee07d-62fa-4d16-97a7-2f4780aad6dc button.colab-df-convert');\n",
              "        buttonEl.style.display =\n",
              "          google.colab.kernel.accessAllowed ? 'block' : 'none';\n",
              "\n",
              "        async function convertToInteractive(key) {\n",
              "          const element = document.querySelector('#df-243ee07d-62fa-4d16-97a7-2f4780aad6dc');\n",
              "          const dataTable =\n",
              "            await google.colab.kernel.invokeFunction('convertToInteractive',\n",
              "                                                     [key], {});\n",
              "          if (!dataTable) return;\n",
              "\n",
              "          const docLinkHtml = 'Like what you see? Visit the ' +\n",
              "            '<a target=\"_blank\" href=https://colab.research.google.com/notebooks/data_table.ipynb>data table notebook</a>'\n",
              "            + ' to learn more about interactive tables.';\n",
              "          element.innerHTML = '';\n",
              "          dataTable['output_type'] = 'display_data';\n",
              "          await google.colab.output.renderOutput(dataTable, element);\n",
              "          const docLink = document.createElement('div');\n",
              "          docLink.innerHTML = docLinkHtml;\n",
              "          element.appendChild(docLink);\n",
              "        }\n",
              "      </script>\n",
              "    </div>\n",
              "  </div>\n",
              "  "
            ]
          },
          "metadata": {},
          "execution_count": 41
        }
      ]
    },
    {
      "cell_type": "code",
      "metadata": {
        "id": "md7wsC6fIUUH",
        "colab": {
          "base_uri": "https://localhost:8080/"
        },
        "outputId": "f50fe3d0-7165-4eba-b109-00e116aa4d43"
      },
      "source": [
        "len(df.index) #count the number of data we got"
      ],
      "execution_count": 42,
      "outputs": [
        {
          "output_type": "execute_result",
          "data": {
            "text/plain": [
              "2000"
            ]
          },
          "metadata": {},
          "execution_count": 42
        }
      ]
    },
    {
      "cell_type": "code",
      "source": [
        "def convert_sentiment(score):\n",
        "    if score <= 2:\n",
        "        return 'Negatif'\n",
        "    else:\n",
        "        return 'Positif'"
      ],
      "metadata": {
        "id": "_BxnCYdsl-84"
      },
      "execution_count": 43,
      "outputs": []
    },
    {
      "cell_type": "code",
      "source": [
        "df['sentiment'] = df['score'].apply(convert_sentiment)"
      ],
      "metadata": {
        "id": "_1FNPfJbmjPJ"
      },
      "execution_count": 44,
      "outputs": []
    },
    {
      "cell_type": "code",
      "source": [
        "print(df[['userName', 'score', 'sentiment', 'content']].head())"
      ],
      "metadata": {
        "colab": {
          "base_uri": "https://localhost:8080/"
        },
        "id": "3d5x_IePm3U2",
        "outputId": "bdf3b012-cfb1-4631-b5ce-915852a5b302"
      },
      "execution_count": 45,
      "outputs": [
        {
          "output_type": "stream",
          "name": "stdout",
          "text": [
            "               userName  score sentiment  \\\n",
            "0                 Ini H      1   Negatif   \n",
            "1              Iwan Wid      5   Positif   \n",
            "2               NEKOPOI      1   Negatif   \n",
            "3  Lola Pertiwi Mulyadi      1   Negatif   \n",
            "4             Epri Yadi      1   Negatif   \n",
            "\n",
            "                                             content  \n",
            "0  Aplikasi semakin lelet & lemot, terlalu berat ...  \n",
            "1  Barang yg dipesan, dikirim sesuai dengan pesan...  \n",
            "2  Aplikasi sangat lemot , Kadang ngefreez di lam...  \n",
            "3  Lambat, lemot, mau chat ke penjual sering gaga...  \n",
            "4  Tolong untuk pihak Shopee,Tolong untuk di eval...  \n"
          ]
        }
      ]
    },
    {
      "cell_type": "code",
      "source": [
        "# Menentukan jumlah ulasan positif dan negatif\n",
        "positive_count = df[df['sentiment'] == 'Positif'].shape[0]\n",
        "negative_count = df[df['sentiment'] == 'Negatif'].shape[0]\n",
        "\n",
        "# Menampilkan hasil\n",
        "print(\"Jumlah ulasan positif:\", positive_count)\n",
        "print(\"Jumlah ulasan negatif:\", negative_count)"
      ],
      "metadata": {
        "colab": {
          "base_uri": "https://localhost:8080/"
        },
        "id": "qw8e_nPCbvHz",
        "outputId": "13d57313-6edb-4718-e600-b0d921c5eef3"
      },
      "execution_count": 46,
      "outputs": [
        {
          "output_type": "stream",
          "name": "stdout",
          "text": [
            "Jumlah ulasan positif: 707\n",
            "Jumlah ulasan negatif: 1293\n"
          ]
        }
      ]
    },
    {
      "cell_type": "code",
      "metadata": {
        "id": "JbtEy0IPHeIO",
        "colab": {
          "base_uri": "https://localhost:8080/",
          "height": 206
        },
        "outputId": "3f1233db-38f0-47e8-9c2d-8bf7e79544f3"
      },
      "source": [
        "df[['userName', 'score', 'sentiment', 'at', 'content']].head()  #preview userName, rating, date-time, and reviews only"
      ],
      "execution_count": 47,
      "outputs": [
        {
          "output_type": "execute_result",
          "data": {
            "text/plain": [
              "               userName  score sentiment                  at  \\\n",
              "0                 Ini H      1   Negatif 2023-06-14 05:41:39   \n",
              "1              Iwan Wid      5   Positif 2023-07-08 09:05:54   \n",
              "2               NEKOPOI      1   Negatif 2023-07-06 14:58:45   \n",
              "3  Lola Pertiwi Mulyadi      1   Negatif 2023-06-15 01:08:53   \n",
              "4             Epri Yadi      1   Negatif 2023-06-29 06:39:11   \n",
              "\n",
              "                                             content  \n",
              "0  Aplikasi semakin lelet & lemot, terlalu berat ...  \n",
              "1  Barang yg dipesan, dikirim sesuai dengan pesan...  \n",
              "2  Aplikasi sangat lemot , Kadang ngefreez di lam...  \n",
              "3  Lambat, lemot, mau chat ke penjual sering gaga...  \n",
              "4  Tolong untuk pihak Shopee,Tolong untuk di eval...  "
            ],
            "text/html": [
              "\n",
              "  <div id=\"df-dbf2b7fe-7049-4214-b438-9c91c0409845\">\n",
              "    <div class=\"colab-df-container\">\n",
              "      <div>\n",
              "<style scoped>\n",
              "    .dataframe tbody tr th:only-of-type {\n",
              "        vertical-align: middle;\n",
              "    }\n",
              "\n",
              "    .dataframe tbody tr th {\n",
              "        vertical-align: top;\n",
              "    }\n",
              "\n",
              "    .dataframe thead th {\n",
              "        text-align: right;\n",
              "    }\n",
              "</style>\n",
              "<table border=\"1\" class=\"dataframe\">\n",
              "  <thead>\n",
              "    <tr style=\"text-align: right;\">\n",
              "      <th></th>\n",
              "      <th>userName</th>\n",
              "      <th>score</th>\n",
              "      <th>sentiment</th>\n",
              "      <th>at</th>\n",
              "      <th>content</th>\n",
              "    </tr>\n",
              "  </thead>\n",
              "  <tbody>\n",
              "    <tr>\n",
              "      <th>0</th>\n",
              "      <td>Ini H</td>\n",
              "      <td>1</td>\n",
              "      <td>Negatif</td>\n",
              "      <td>2023-06-14 05:41:39</td>\n",
              "      <td>Aplikasi semakin lelet &amp; lemot, terlalu berat ...</td>\n",
              "    </tr>\n",
              "    <tr>\n",
              "      <th>1</th>\n",
              "      <td>Iwan Wid</td>\n",
              "      <td>5</td>\n",
              "      <td>Positif</td>\n",
              "      <td>2023-07-08 09:05:54</td>\n",
              "      <td>Barang yg dipesan, dikirim sesuai dengan pesan...</td>\n",
              "    </tr>\n",
              "    <tr>\n",
              "      <th>2</th>\n",
              "      <td>NEKOPOI</td>\n",
              "      <td>1</td>\n",
              "      <td>Negatif</td>\n",
              "      <td>2023-07-06 14:58:45</td>\n",
              "      <td>Aplikasi sangat lemot , Kadang ngefreez di lam...</td>\n",
              "    </tr>\n",
              "    <tr>\n",
              "      <th>3</th>\n",
              "      <td>Lola Pertiwi Mulyadi</td>\n",
              "      <td>1</td>\n",
              "      <td>Negatif</td>\n",
              "      <td>2023-06-15 01:08:53</td>\n",
              "      <td>Lambat, lemot, mau chat ke penjual sering gaga...</td>\n",
              "    </tr>\n",
              "    <tr>\n",
              "      <th>4</th>\n",
              "      <td>Epri Yadi</td>\n",
              "      <td>1</td>\n",
              "      <td>Negatif</td>\n",
              "      <td>2023-06-29 06:39:11</td>\n",
              "      <td>Tolong untuk pihak Shopee,Tolong untuk di eval...</td>\n",
              "    </tr>\n",
              "  </tbody>\n",
              "</table>\n",
              "</div>\n",
              "      <button class=\"colab-df-convert\" onclick=\"convertToInteractive('df-dbf2b7fe-7049-4214-b438-9c91c0409845')\"\n",
              "              title=\"Convert this dataframe to an interactive table.\"\n",
              "              style=\"display:none;\">\n",
              "        \n",
              "  <svg xmlns=\"http://www.w3.org/2000/svg\" height=\"24px\"viewBox=\"0 0 24 24\"\n",
              "       width=\"24px\">\n",
              "    <path d=\"M0 0h24v24H0V0z\" fill=\"none\"/>\n",
              "    <path d=\"M18.56 5.44l.94 2.06.94-2.06 2.06-.94-2.06-.94-.94-2.06-.94 2.06-2.06.94zm-11 1L8.5 8.5l.94-2.06 2.06-.94-2.06-.94L8.5 2.5l-.94 2.06-2.06.94zm10 10l.94 2.06.94-2.06 2.06-.94-2.06-.94-.94-2.06-.94 2.06-2.06.94z\"/><path d=\"M17.41 7.96l-1.37-1.37c-.4-.4-.92-.59-1.43-.59-.52 0-1.04.2-1.43.59L10.3 9.45l-7.72 7.72c-.78.78-.78 2.05 0 2.83L4 21.41c.39.39.9.59 1.41.59.51 0 1.02-.2 1.41-.59l7.78-7.78 2.81-2.81c.8-.78.8-2.07 0-2.86zM5.41 20L4 18.59l7.72-7.72 1.47 1.35L5.41 20z\"/>\n",
              "  </svg>\n",
              "      </button>\n",
              "      \n",
              "  <style>\n",
              "    .colab-df-container {\n",
              "      display:flex;\n",
              "      flex-wrap:wrap;\n",
              "      gap: 12px;\n",
              "    }\n",
              "\n",
              "    .colab-df-convert {\n",
              "      background-color: #E8F0FE;\n",
              "      border: none;\n",
              "      border-radius: 50%;\n",
              "      cursor: pointer;\n",
              "      display: none;\n",
              "      fill: #1967D2;\n",
              "      height: 32px;\n",
              "      padding: 0 0 0 0;\n",
              "      width: 32px;\n",
              "    }\n",
              "\n",
              "    .colab-df-convert:hover {\n",
              "      background-color: #E2EBFA;\n",
              "      box-shadow: 0px 1px 2px rgba(60, 64, 67, 0.3), 0px 1px 3px 1px rgba(60, 64, 67, 0.15);\n",
              "      fill: #174EA6;\n",
              "    }\n",
              "\n",
              "    [theme=dark] .colab-df-convert {\n",
              "      background-color: #3B4455;\n",
              "      fill: #D2E3FC;\n",
              "    }\n",
              "\n",
              "    [theme=dark] .colab-df-convert:hover {\n",
              "      background-color: #434B5C;\n",
              "      box-shadow: 0px 1px 3px 1px rgba(0, 0, 0, 0.15);\n",
              "      filter: drop-shadow(0px 1px 2px rgba(0, 0, 0, 0.3));\n",
              "      fill: #FFFFFF;\n",
              "    }\n",
              "  </style>\n",
              "\n",
              "      <script>\n",
              "        const buttonEl =\n",
              "          document.querySelector('#df-dbf2b7fe-7049-4214-b438-9c91c0409845 button.colab-df-convert');\n",
              "        buttonEl.style.display =\n",
              "          google.colab.kernel.accessAllowed ? 'block' : 'none';\n",
              "\n",
              "        async function convertToInteractive(key) {\n",
              "          const element = document.querySelector('#df-dbf2b7fe-7049-4214-b438-9c91c0409845');\n",
              "          const dataTable =\n",
              "            await google.colab.kernel.invokeFunction('convertToInteractive',\n",
              "                                                     [key], {});\n",
              "          if (!dataTable) return;\n",
              "\n",
              "          const docLinkHtml = 'Like what you see? Visit the ' +\n",
              "            '<a target=\"_blank\" href=https://colab.research.google.com/notebooks/data_table.ipynb>data table notebook</a>'\n",
              "            + ' to learn more about interactive tables.';\n",
              "          element.innerHTML = '';\n",
              "          dataTable['output_type'] = 'display_data';\n",
              "          await google.colab.output.renderOutput(dataTable, element);\n",
              "          const docLink = document.createElement('div');\n",
              "          docLink.innerHTML = docLinkHtml;\n",
              "          element.appendChild(docLink);\n",
              "        }\n",
              "      </script>\n",
              "    </div>\n",
              "  </div>\n",
              "  "
            ]
          },
          "metadata": {},
          "execution_count": 47
        }
      ]
    },
    {
      "cell_type": "code",
      "metadata": {
        "colab": {
          "base_uri": "https://localhost:8080/",
          "height": 206
        },
        "id": "1yVHXsZAsC79",
        "outputId": "30fe55f5-f741-43b8-b2c4-7a451b3e1bc1"
      },
      "source": [
        "#Run This Code to Sort the Data By Date\n",
        "\n",
        "new_df = df[['userName', 'score', 'sentiment', 'at', 'content']]\n",
        "sorted_df = new_df.sort_values(by='at', ascending=False) #Sort by Newst, change to True if you want to sort by Oldest.\n",
        "sorted_df.head()"
      ],
      "execution_count": 48,
      "outputs": [
        {
          "output_type": "execute_result",
          "data": {
            "text/plain": [
              "                           userName  score sentiment                  at  \\\n",
              "141               Varendra nigel G.      1   Negatif 2023-07-08 13:20:33   \n",
              "267                   Angga Saputra      3   Positif 2023-07-08 12:54:01   \n",
              "35                    Iis Nurhayati      1   Negatif 2023-07-08 12:18:11   \n",
              "450           Victoria Ayu Yosefien      1   Negatif 2023-07-08 12:10:56   \n",
              "382  ADITYA FENDI KRISTIANTO (ADIT)      3   Positif 2023-07-08 11:34:15   \n",
              "\n",
              "                                               content  \n",
              "141  Sangat lelet, sekarang gw beralih ke toko ijo ...  \n",
              "267  Saat ini ada kendala untuk pesan barang sebagi...  \n",
              "35   Gimana sih .. Aplikasinya baru di update tapi ...  \n",
              "450  Awalnya bagus pakai shopee, lama\" jengkel bgt....  \n",
              "382  Mohon maaf hp saya samsung a23 5g, waktu mau m...  "
            ],
            "text/html": [
              "\n",
              "  <div id=\"df-9175f3bc-ec54-4d5d-a3f9-c5e56e0396ff\">\n",
              "    <div class=\"colab-df-container\">\n",
              "      <div>\n",
              "<style scoped>\n",
              "    .dataframe tbody tr th:only-of-type {\n",
              "        vertical-align: middle;\n",
              "    }\n",
              "\n",
              "    .dataframe tbody tr th {\n",
              "        vertical-align: top;\n",
              "    }\n",
              "\n",
              "    .dataframe thead th {\n",
              "        text-align: right;\n",
              "    }\n",
              "</style>\n",
              "<table border=\"1\" class=\"dataframe\">\n",
              "  <thead>\n",
              "    <tr style=\"text-align: right;\">\n",
              "      <th></th>\n",
              "      <th>userName</th>\n",
              "      <th>score</th>\n",
              "      <th>sentiment</th>\n",
              "      <th>at</th>\n",
              "      <th>content</th>\n",
              "    </tr>\n",
              "  </thead>\n",
              "  <tbody>\n",
              "    <tr>\n",
              "      <th>141</th>\n",
              "      <td>Varendra nigel G.</td>\n",
              "      <td>1</td>\n",
              "      <td>Negatif</td>\n",
              "      <td>2023-07-08 13:20:33</td>\n",
              "      <td>Sangat lelet, sekarang gw beralih ke toko ijo ...</td>\n",
              "    </tr>\n",
              "    <tr>\n",
              "      <th>267</th>\n",
              "      <td>Angga Saputra</td>\n",
              "      <td>3</td>\n",
              "      <td>Positif</td>\n",
              "      <td>2023-07-08 12:54:01</td>\n",
              "      <td>Saat ini ada kendala untuk pesan barang sebagi...</td>\n",
              "    </tr>\n",
              "    <tr>\n",
              "      <th>35</th>\n",
              "      <td>Iis Nurhayati</td>\n",
              "      <td>1</td>\n",
              "      <td>Negatif</td>\n",
              "      <td>2023-07-08 12:18:11</td>\n",
              "      <td>Gimana sih .. Aplikasinya baru di update tapi ...</td>\n",
              "    </tr>\n",
              "    <tr>\n",
              "      <th>450</th>\n",
              "      <td>Victoria Ayu Yosefien</td>\n",
              "      <td>1</td>\n",
              "      <td>Negatif</td>\n",
              "      <td>2023-07-08 12:10:56</td>\n",
              "      <td>Awalnya bagus pakai shopee, lama\" jengkel bgt....</td>\n",
              "    </tr>\n",
              "    <tr>\n",
              "      <th>382</th>\n",
              "      <td>ADITYA FENDI KRISTIANTO (ADIT)</td>\n",
              "      <td>3</td>\n",
              "      <td>Positif</td>\n",
              "      <td>2023-07-08 11:34:15</td>\n",
              "      <td>Mohon maaf hp saya samsung a23 5g, waktu mau m...</td>\n",
              "    </tr>\n",
              "  </tbody>\n",
              "</table>\n",
              "</div>\n",
              "      <button class=\"colab-df-convert\" onclick=\"convertToInteractive('df-9175f3bc-ec54-4d5d-a3f9-c5e56e0396ff')\"\n",
              "              title=\"Convert this dataframe to an interactive table.\"\n",
              "              style=\"display:none;\">\n",
              "        \n",
              "  <svg xmlns=\"http://www.w3.org/2000/svg\" height=\"24px\"viewBox=\"0 0 24 24\"\n",
              "       width=\"24px\">\n",
              "    <path d=\"M0 0h24v24H0V0z\" fill=\"none\"/>\n",
              "    <path d=\"M18.56 5.44l.94 2.06.94-2.06 2.06-.94-2.06-.94-.94-2.06-.94 2.06-2.06.94zm-11 1L8.5 8.5l.94-2.06 2.06-.94-2.06-.94L8.5 2.5l-.94 2.06-2.06.94zm10 10l.94 2.06.94-2.06 2.06-.94-2.06-.94-.94-2.06-.94 2.06-2.06.94z\"/><path d=\"M17.41 7.96l-1.37-1.37c-.4-.4-.92-.59-1.43-.59-.52 0-1.04.2-1.43.59L10.3 9.45l-7.72 7.72c-.78.78-.78 2.05 0 2.83L4 21.41c.39.39.9.59 1.41.59.51 0 1.02-.2 1.41-.59l7.78-7.78 2.81-2.81c.8-.78.8-2.07 0-2.86zM5.41 20L4 18.59l7.72-7.72 1.47 1.35L5.41 20z\"/>\n",
              "  </svg>\n",
              "      </button>\n",
              "      \n",
              "  <style>\n",
              "    .colab-df-container {\n",
              "      display:flex;\n",
              "      flex-wrap:wrap;\n",
              "      gap: 12px;\n",
              "    }\n",
              "\n",
              "    .colab-df-convert {\n",
              "      background-color: #E8F0FE;\n",
              "      border: none;\n",
              "      border-radius: 50%;\n",
              "      cursor: pointer;\n",
              "      display: none;\n",
              "      fill: #1967D2;\n",
              "      height: 32px;\n",
              "      padding: 0 0 0 0;\n",
              "      width: 32px;\n",
              "    }\n",
              "\n",
              "    .colab-df-convert:hover {\n",
              "      background-color: #E2EBFA;\n",
              "      box-shadow: 0px 1px 2px rgba(60, 64, 67, 0.3), 0px 1px 3px 1px rgba(60, 64, 67, 0.15);\n",
              "      fill: #174EA6;\n",
              "    }\n",
              "\n",
              "    [theme=dark] .colab-df-convert {\n",
              "      background-color: #3B4455;\n",
              "      fill: #D2E3FC;\n",
              "    }\n",
              "\n",
              "    [theme=dark] .colab-df-convert:hover {\n",
              "      background-color: #434B5C;\n",
              "      box-shadow: 0px 1px 3px 1px rgba(0, 0, 0, 0.15);\n",
              "      filter: drop-shadow(0px 1px 2px rgba(0, 0, 0, 0.3));\n",
              "      fill: #FFFFFF;\n",
              "    }\n",
              "  </style>\n",
              "\n",
              "      <script>\n",
              "        const buttonEl =\n",
              "          document.querySelector('#df-9175f3bc-ec54-4d5d-a3f9-c5e56e0396ff button.colab-df-convert');\n",
              "        buttonEl.style.display =\n",
              "          google.colab.kernel.accessAllowed ? 'block' : 'none';\n",
              "\n",
              "        async function convertToInteractive(key) {\n",
              "          const element = document.querySelector('#df-9175f3bc-ec54-4d5d-a3f9-c5e56e0396ff');\n",
              "          const dataTable =\n",
              "            await google.colab.kernel.invokeFunction('convertToInteractive',\n",
              "                                                     [key], {});\n",
              "          if (!dataTable) return;\n",
              "\n",
              "          const docLinkHtml = 'Like what you see? Visit the ' +\n",
              "            '<a target=\"_blank\" href=https://colab.research.google.com/notebooks/data_table.ipynb>data table notebook</a>'\n",
              "            + ' to learn more about interactive tables.';\n",
              "          element.innerHTML = '';\n",
              "          dataTable['output_type'] = 'display_data';\n",
              "          await google.colab.output.renderOutput(dataTable, element);\n",
              "          const docLink = document.createElement('div');\n",
              "          docLink.innerHTML = docLinkHtml;\n",
              "          element.appendChild(docLink);\n",
              "        }\n",
              "      </script>\n",
              "    </div>\n",
              "  </div>\n",
              "  "
            ]
          },
          "metadata": {},
          "execution_count": 48
        }
      ]
    },
    {
      "cell_type": "code",
      "metadata": {
        "id": "yCUyHN58Pngt"
      },
      "source": [
        "my_df = sorted_df[['userName', 'score','sentiment', 'at', 'content']] #get userName, rating, date-time, and reviews only"
      ],
      "execution_count": 49,
      "outputs": []
    },
    {
      "cell_type": "code",
      "metadata": {
        "colab": {
          "base_uri": "https://localhost:8080/",
          "height": 206
        },
        "id": "L1FpkUiutQds",
        "outputId": "b75e0a3a-50f3-4d0d-c16a-e09cb5e103ff"
      },
      "source": [
        "my_df.head()"
      ],
      "execution_count": 50,
      "outputs": [
        {
          "output_type": "execute_result",
          "data": {
            "text/plain": [
              "                           userName  score sentiment                  at  \\\n",
              "141               Varendra nigel G.      1   Negatif 2023-07-08 13:20:33   \n",
              "267                   Angga Saputra      3   Positif 2023-07-08 12:54:01   \n",
              "35                    Iis Nurhayati      1   Negatif 2023-07-08 12:18:11   \n",
              "450           Victoria Ayu Yosefien      1   Negatif 2023-07-08 12:10:56   \n",
              "382  ADITYA FENDI KRISTIANTO (ADIT)      3   Positif 2023-07-08 11:34:15   \n",
              "\n",
              "                                               content  \n",
              "141  Sangat lelet, sekarang gw beralih ke toko ijo ...  \n",
              "267  Saat ini ada kendala untuk pesan barang sebagi...  \n",
              "35   Gimana sih .. Aplikasinya baru di update tapi ...  \n",
              "450  Awalnya bagus pakai shopee, lama\" jengkel bgt....  \n",
              "382  Mohon maaf hp saya samsung a23 5g, waktu mau m...  "
            ],
            "text/html": [
              "\n",
              "  <div id=\"df-49600bd4-4479-4c2a-aa01-6a24fa6a8abf\">\n",
              "    <div class=\"colab-df-container\">\n",
              "      <div>\n",
              "<style scoped>\n",
              "    .dataframe tbody tr th:only-of-type {\n",
              "        vertical-align: middle;\n",
              "    }\n",
              "\n",
              "    .dataframe tbody tr th {\n",
              "        vertical-align: top;\n",
              "    }\n",
              "\n",
              "    .dataframe thead th {\n",
              "        text-align: right;\n",
              "    }\n",
              "</style>\n",
              "<table border=\"1\" class=\"dataframe\">\n",
              "  <thead>\n",
              "    <tr style=\"text-align: right;\">\n",
              "      <th></th>\n",
              "      <th>userName</th>\n",
              "      <th>score</th>\n",
              "      <th>sentiment</th>\n",
              "      <th>at</th>\n",
              "      <th>content</th>\n",
              "    </tr>\n",
              "  </thead>\n",
              "  <tbody>\n",
              "    <tr>\n",
              "      <th>141</th>\n",
              "      <td>Varendra nigel G.</td>\n",
              "      <td>1</td>\n",
              "      <td>Negatif</td>\n",
              "      <td>2023-07-08 13:20:33</td>\n",
              "      <td>Sangat lelet, sekarang gw beralih ke toko ijo ...</td>\n",
              "    </tr>\n",
              "    <tr>\n",
              "      <th>267</th>\n",
              "      <td>Angga Saputra</td>\n",
              "      <td>3</td>\n",
              "      <td>Positif</td>\n",
              "      <td>2023-07-08 12:54:01</td>\n",
              "      <td>Saat ini ada kendala untuk pesan barang sebagi...</td>\n",
              "    </tr>\n",
              "    <tr>\n",
              "      <th>35</th>\n",
              "      <td>Iis Nurhayati</td>\n",
              "      <td>1</td>\n",
              "      <td>Negatif</td>\n",
              "      <td>2023-07-08 12:18:11</td>\n",
              "      <td>Gimana sih .. Aplikasinya baru di update tapi ...</td>\n",
              "    </tr>\n",
              "    <tr>\n",
              "      <th>450</th>\n",
              "      <td>Victoria Ayu Yosefien</td>\n",
              "      <td>1</td>\n",
              "      <td>Negatif</td>\n",
              "      <td>2023-07-08 12:10:56</td>\n",
              "      <td>Awalnya bagus pakai shopee, lama\" jengkel bgt....</td>\n",
              "    </tr>\n",
              "    <tr>\n",
              "      <th>382</th>\n",
              "      <td>ADITYA FENDI KRISTIANTO (ADIT)</td>\n",
              "      <td>3</td>\n",
              "      <td>Positif</td>\n",
              "      <td>2023-07-08 11:34:15</td>\n",
              "      <td>Mohon maaf hp saya samsung a23 5g, waktu mau m...</td>\n",
              "    </tr>\n",
              "  </tbody>\n",
              "</table>\n",
              "</div>\n",
              "      <button class=\"colab-df-convert\" onclick=\"convertToInteractive('df-49600bd4-4479-4c2a-aa01-6a24fa6a8abf')\"\n",
              "              title=\"Convert this dataframe to an interactive table.\"\n",
              "              style=\"display:none;\">\n",
              "        \n",
              "  <svg xmlns=\"http://www.w3.org/2000/svg\" height=\"24px\"viewBox=\"0 0 24 24\"\n",
              "       width=\"24px\">\n",
              "    <path d=\"M0 0h24v24H0V0z\" fill=\"none\"/>\n",
              "    <path d=\"M18.56 5.44l.94 2.06.94-2.06 2.06-.94-2.06-.94-.94-2.06-.94 2.06-2.06.94zm-11 1L8.5 8.5l.94-2.06 2.06-.94-2.06-.94L8.5 2.5l-.94 2.06-2.06.94zm10 10l.94 2.06.94-2.06 2.06-.94-2.06-.94-.94-2.06-.94 2.06-2.06.94z\"/><path d=\"M17.41 7.96l-1.37-1.37c-.4-.4-.92-.59-1.43-.59-.52 0-1.04.2-1.43.59L10.3 9.45l-7.72 7.72c-.78.78-.78 2.05 0 2.83L4 21.41c.39.39.9.59 1.41.59.51 0 1.02-.2 1.41-.59l7.78-7.78 2.81-2.81c.8-.78.8-2.07 0-2.86zM5.41 20L4 18.59l7.72-7.72 1.47 1.35L5.41 20z\"/>\n",
              "  </svg>\n",
              "      </button>\n",
              "      \n",
              "  <style>\n",
              "    .colab-df-container {\n",
              "      display:flex;\n",
              "      flex-wrap:wrap;\n",
              "      gap: 12px;\n",
              "    }\n",
              "\n",
              "    .colab-df-convert {\n",
              "      background-color: #E8F0FE;\n",
              "      border: none;\n",
              "      border-radius: 50%;\n",
              "      cursor: pointer;\n",
              "      display: none;\n",
              "      fill: #1967D2;\n",
              "      height: 32px;\n",
              "      padding: 0 0 0 0;\n",
              "      width: 32px;\n",
              "    }\n",
              "\n",
              "    .colab-df-convert:hover {\n",
              "      background-color: #E2EBFA;\n",
              "      box-shadow: 0px 1px 2px rgba(60, 64, 67, 0.3), 0px 1px 3px 1px rgba(60, 64, 67, 0.15);\n",
              "      fill: #174EA6;\n",
              "    }\n",
              "\n",
              "    [theme=dark] .colab-df-convert {\n",
              "      background-color: #3B4455;\n",
              "      fill: #D2E3FC;\n",
              "    }\n",
              "\n",
              "    [theme=dark] .colab-df-convert:hover {\n",
              "      background-color: #434B5C;\n",
              "      box-shadow: 0px 1px 3px 1px rgba(0, 0, 0, 0.15);\n",
              "      filter: drop-shadow(0px 1px 2px rgba(0, 0, 0, 0.3));\n",
              "      fill: #FFFFFF;\n",
              "    }\n",
              "  </style>\n",
              "\n",
              "      <script>\n",
              "        const buttonEl =\n",
              "          document.querySelector('#df-49600bd4-4479-4c2a-aa01-6a24fa6a8abf button.colab-df-convert');\n",
              "        buttonEl.style.display =\n",
              "          google.colab.kernel.accessAllowed ? 'block' : 'none';\n",
              "\n",
              "        async function convertToInteractive(key) {\n",
              "          const element = document.querySelector('#df-49600bd4-4479-4c2a-aa01-6a24fa6a8abf');\n",
              "          const dataTable =\n",
              "            await google.colab.kernel.invokeFunction('convertToInteractive',\n",
              "                                                     [key], {});\n",
              "          if (!dataTable) return;\n",
              "\n",
              "          const docLinkHtml = 'Like what you see? Visit the ' +\n",
              "            '<a target=\"_blank\" href=https://colab.research.google.com/notebooks/data_table.ipynb>data table notebook</a>'\n",
              "            + ' to learn more about interactive tables.';\n",
              "          element.innerHTML = '';\n",
              "          dataTable['output_type'] = 'display_data';\n",
              "          await google.colab.output.renderOutput(dataTable, element);\n",
              "          const docLink = document.createElement('div');\n",
              "          docLink.innerHTML = docLinkHtml;\n",
              "          element.appendChild(docLink);\n",
              "        }\n",
              "      </script>\n",
              "    </div>\n",
              "  </div>\n",
              "  "
            ]
          },
          "metadata": {},
          "execution_count": 50
        }
      ]
    },
    {
      "cell_type": "code",
      "source": [
        "filtered_df = sorted_df.loc[sorted_df['sentiment'] == 'Positif']\n",
        "print(filtered_df.head())"
      ],
      "metadata": {
        "colab": {
          "base_uri": "https://localhost:8080/"
        },
        "id": "sAmUtor-o8OL",
        "outputId": "d1dcd66e-f2e6-4698-c1fa-a4ac5b542b96"
      },
      "execution_count": 51,
      "outputs": [
        {
          "output_type": "stream",
          "name": "stdout",
          "text": [
            "                           userName  score sentiment                  at  \\\n",
            "267                   Angga Saputra      3   Positif 2023-07-08 12:54:01   \n",
            "382  ADITYA FENDI KRISTIANTO (ADIT)      3   Positif 2023-07-08 11:34:15   \n",
            "972                     ineu kholbu      5   Positif 2023-07-08 11:22:20   \n",
            "690                        Rotan Ku      5   Positif 2023-07-08 11:17:21   \n",
            "362                  MUJAHIDA SABIR      5   Positif 2023-07-08 11:15:25   \n",
            "\n",
            "                                               content  \n",
            "267  Saat ini ada kendala untuk pesan barang sebagi...  \n",
            "382  Mohon maaf hp saya samsung a23 5g, waktu mau m...  \n",
            "972  Sekarang ongkirnya hanya potongan saja dan kec...  \n",
            "690  Banyak yg eror masalah claim koin harian eror ...  \n",
            "362  Makin suka belanja dishopee, banyak pilihan pr...  \n"
          ]
        }
      ]
    },
    {
      "cell_type": "code",
      "source": [
        "!pip install Sastrawi"
      ],
      "metadata": {
        "colab": {
          "base_uri": "https://localhost:8080/"
        },
        "id": "oGxcOMuHtYiM",
        "outputId": "812f9b8a-8173-48dc-8ff9-07d1e3c5ffde"
      },
      "execution_count": 52,
      "outputs": [
        {
          "output_type": "stream",
          "name": "stdout",
          "text": [
            "Requirement already satisfied: Sastrawi in /usr/local/lib/python3.10/dist-packages (1.0.1)\n"
          ]
        }
      ]
    },
    {
      "cell_type": "code",
      "source": [
        "import nltk\n",
        "\n",
        "from nltk.tokenize import word_tokenize\n",
        "from Sastrawi.Stemmer.StemmerFactory import StemmerFactory\n",
        "\n",
        "# Menginisialisasi tokenisasi menggunakan word_tokenize dari nltk\n",
        "nltk.download('punkt')  # Mengunduh data yang diperlukan untuk word_tokenize\n",
        "\n",
        "# Tokenisasi teks dalam kolom 'content'\n",
        "df['tokens'] = df['content'].apply(lambda x: word_tokenize(x))\n",
        "\n",
        "# Menampilkan hasil tokenisasi\n",
        "print(df[['content', 'tokens']].head())"
      ],
      "metadata": {
        "colab": {
          "base_uri": "https://localhost:8080/"
        },
        "id": "PWPfts4MqyM8",
        "outputId": "b507bd6b-e719-4f8f-8477-dbe4f3d2d4a9"
      },
      "execution_count": 53,
      "outputs": [
        {
          "output_type": "stream",
          "name": "stderr",
          "text": [
            "[nltk_data] Downloading package punkt to /root/nltk_data...\n",
            "[nltk_data]   Package punkt is already up-to-date!\n"
          ]
        },
        {
          "output_type": "stream",
          "name": "stdout",
          "text": [
            "                                             content  \\\n",
            "0  Aplikasi semakin lelet & lemot, terlalu berat ...   \n",
            "1  Barang yg dipesan, dikirim sesuai dengan pesan...   \n",
            "2  Aplikasi sangat lemot , Kadang ngefreez di lam...   \n",
            "3  Lambat, lemot, mau chat ke penjual sering gaga...   \n",
            "4  Tolong untuk pihak Shopee,Tolong untuk di eval...   \n",
            "\n",
            "                                              tokens  \n",
            "0  [Aplikasi, semakin, lelet, &, lemot, ,, terlal...  \n",
            "1  [Barang, yg, dipesan, ,, dikirim, sesuai, deng...  \n",
            "2  [Aplikasi, sangat, lemot, ,, Kadang, ngefreez,...  \n",
            "3  [Lambat, ,, lemot, ,, mau, chat, ke, penjual, ...  \n",
            "4  [Tolong, untuk, pihak, Shopee, ,, Tolong, untu...  \n"
          ]
        }
      ]
    },
    {
      "cell_type": "code",
      "source": [
        "import string"
      ],
      "metadata": {
        "id": "W5rsW6QQc9_W"
      },
      "execution_count": 54,
      "outputs": []
    },
    {
      "cell_type": "code",
      "source": [
        "# Fungsi untuk memfilter kata\n",
        "def filter_words(text):\n",
        "    # Menghapus tanda baca dan simbol\n",
        "    text = text.translate(str.maketrans(\"\", \"\", string.punctuation))\n",
        "    # Mengubah huruf menjadi huruf kecil\n",
        "    text = text.lower()\n",
        "    return text"
      ],
      "metadata": {
        "id": "biI76gcNdAKk"
      },
      "execution_count": 55,
      "outputs": []
    },
    {
      "cell_type": "code",
      "source": [
        "# Memfilter kata pada kolom 'content'\n",
        "df['filtered_content'] = df['content'].apply(filter_words)"
      ],
      "metadata": {
        "id": "WeQ_Q3BxdHTs"
      },
      "execution_count": 56,
      "outputs": []
    },
    {
      "cell_type": "code",
      "source": [
        "# Menampilkan hasil\n",
        "print(df[['content', 'filtered_content']].head())"
      ],
      "metadata": {
        "id": "fwWALTHddLsM",
        "outputId": "39ce79cc-e300-4cdd-bf49-a078bbb14515",
        "colab": {
          "base_uri": "https://localhost:8080/"
        }
      },
      "execution_count": 57,
      "outputs": [
        {
          "output_type": "stream",
          "name": "stdout",
          "text": [
            "                                             content  \\\n",
            "0  Aplikasi semakin lelet & lemot, terlalu berat ...   \n",
            "1  Barang yg dipesan, dikirim sesuai dengan pesan...   \n",
            "2  Aplikasi sangat lemot , Kadang ngefreez di lam...   \n",
            "3  Lambat, lemot, mau chat ke penjual sering gaga...   \n",
            "4  Tolong untuk pihak Shopee,Tolong untuk di eval...   \n",
            "\n",
            "                                    filtered_content  \n",
            "0  aplikasi semakin lelet  lemot terlalu berat  s...  \n",
            "1  barang yg dipesan dikirim sesuai dengan pesana...  \n",
            "2  aplikasi sangat lemot  kadang ngefreez di lama...  \n",
            "3  lambat lemot mau chat ke penjual sering gagal ...  \n",
            "4  tolong untuk pihak shopeetolong untuk di evalu...  \n"
          ]
        }
      ]
    },
    {
      "cell_type": "code",
      "source": [
        "keyword = 'lemot'\n",
        "filtered_df = df[df['tokens'].apply(lambda x: keyword in x)]\n",
        "print(filtered_df[['content', 'tokens']].head())"
      ],
      "metadata": {
        "colab": {
          "base_uri": "https://localhost:8080/"
        },
        "id": "Xo-D_tXDreus",
        "outputId": "a3ae00ef-6218-4208-8f88-ae41efdf4ffc"
      },
      "execution_count": 58,
      "outputs": [
        {
          "output_type": "stream",
          "name": "stdout",
          "text": [
            "                                              content  \\\n",
            "0   Aplikasi semakin lelet & lemot, terlalu berat ...   \n",
            "2   Aplikasi sangat lemot , Kadang ngefreez di lam...   \n",
            "3   Lambat, lemot, mau chat ke penjual sering gaga...   \n",
            "4   Tolong untuk pihak Shopee,Tolong untuk di eval...   \n",
            "11  ga ngerti lagi sama Shopee yang sekarang, lemo...   \n",
            "\n",
            "                                               tokens  \n",
            "0   [Aplikasi, semakin, lelet, &, lemot, ,, terlal...  \n",
            "2   [Aplikasi, sangat, lemot, ,, Kadang, ngefreez,...  \n",
            "3   [Lambat, ,, lemot, ,, mau, chat, ke, penjual, ...  \n",
            "4   [Tolong, untuk, pihak, Shopee, ,, Tolong, untu...  \n",
            "11  [ga, ngerti, lagi, sama, Shopee, yang, sekaran...  \n"
          ]
        }
      ]
    },
    {
      "cell_type": "code",
      "source": [
        "stemmer = StemmerFactory().create_stemmer()"
      ],
      "metadata": {
        "id": "vNugT_sesgg0"
      },
      "execution_count": 59,
      "outputs": []
    },
    {
      "cell_type": "code",
      "source": [
        "df['stemmed_tokens'] = df['tokens'].apply(lambda x: [stemmer.stem(token) for token in x])"
      ],
      "metadata": {
        "id": "wBMjFametm5U"
      },
      "execution_count": 61,
      "outputs": []
    },
    {
      "cell_type": "code",
      "source": [
        "print(df_busu[['content', 'stemmed_tokens']].head())"
      ],
      "metadata": {
        "id": "Mr2XBYzz6kV3",
        "outputId": "33859115-3f95-46b2-aabe-0932372701ec",
        "colab": {
          "base_uri": "https://localhost:8080/"
        }
      },
      "execution_count": 37,
      "outputs": [
        {
          "output_type": "stream",
          "name": "stdout",
          "text": [
            "                                             content  \\\n",
            "0  Aplikasi semakin lelet & lemot, terlalu berat ...   \n",
            "1  Aplikasi sangat lemot , Kadang ngefreez di lam...   \n",
            "2  Lambat, lemot, mau chat ke penjual sering gaga...   \n",
            "3  Tolong untuk pihak Shopee,Tolong untuk di eval...   \n",
            "4  Aplikasi lambat, lamban, dan lebih baik tidak ...   \n",
            "\n",
            "                                      stemmed_tokens  \n",
            "0  [aplikasi, makin, lelet, , lot, , terlalu, ber...  \n",
            "1  [aplikasi, sangat, lot, , kadang, ngefreez, di...  \n",
            "2  [lambat, , lot, , mau, chat, ke, jual, sering,...  \n",
            "3  [tolong, untuk, pihak, shopee, , tolong, untuk...  \n",
            "4  [aplikasi, lambat, , lamban, , dan, lebih, bai...  \n"
          ]
        }
      ]
    },
    {
      "cell_type": "markdown",
      "source": [
        "**Algoritma KNN**"
      ],
      "metadata": {
        "id": "A5FO0dVxnKai"
      }
    },
    {
      "cell_type": "code",
      "source": [
        "from sklearn.model_selection import train_test_split\n",
        "from sklearn.feature_extraction.text import TfidfVectorizer\n",
        "from sklearn.neighbors import KNeighborsClassifier\n",
        "from sklearn.metrics import classification_report\n",
        "from sklearn.metrics import accuracy_score\n",
        "from sklearn.metrics import confusion_matrix"
      ],
      "metadata": {
        "id": "Nsl7R9mjm40O"
      },
      "execution_count": 111,
      "outputs": []
    },
    {
      "cell_type": "code",
      "source": [
        "# Mengambil 1000 dataset pertama\n",
        "df_subset = df.head(1000)"
      ],
      "metadata": {
        "id": "modwFJPAJz9G"
      },
      "execution_count": 112,
      "outputs": []
    },
    {
      "cell_type": "code",
      "source": [
        "# Mengambil kolom yang dibutuhkan (misalnya, 'stemmed_tokens' dan 'sentiment')\n",
        "data = df[['stemmed_tokens', 'sentiment']]"
      ],
      "metadata": {
        "id": "Hr15rWD7m9cL"
      },
      "execution_count": 100,
      "outputs": []
    },
    {
      "cell_type": "code",
      "source": [
        "# Menggabungkan token-token dalam list menjadi satu string\n",
        "data['text'] = data['stemmed_tokens'].apply(lambda x: ' '.join(x))"
      ],
      "metadata": {
        "colab": {
          "base_uri": "https://localhost:8080/"
        },
        "id": "p_6QhUMinmq-",
        "outputId": "a88f066c-b6b6-4b33-c9d7-9f736f491e95"
      },
      "execution_count": 101,
      "outputs": [
        {
          "output_type": "stream",
          "name": "stderr",
          "text": [
            "<ipython-input-101-6329eef40417>:2: SettingWithCopyWarning: \n",
            "A value is trying to be set on a copy of a slice from a DataFrame.\n",
            "Try using .loc[row_indexer,col_indexer] = value instead\n",
            "\n",
            "See the caveats in the documentation: https://pandas.pydata.org/pandas-docs/stable/user_guide/indexing.html#returning-a-view-versus-a-copy\n",
            "  data['text'] = data['stemmed_tokens'].apply(lambda x: ' '.join(x))\n"
          ]
        }
      ]
    },
    {
      "cell_type": "code",
      "source": [
        "# Memisahkan fitur (X) dan label (y)\n",
        "X = df_subset['stemmed_tokens']\n",
        "y = df_subset['sentiment']"
      ],
      "metadata": {
        "id": "0gIPeS59nC1r"
      },
      "execution_count": 113,
      "outputs": []
    },
    {
      "cell_type": "code",
      "source": [
        "# Membagi data menjadi data pelatihan dan data pengujian\n",
        "X_train, X_test, y_train, y_test = train_test_split(X, y, test_size=0.2, random_state=42)"
      ],
      "metadata": {
        "id": "AnVRhcMnnH3r"
      },
      "execution_count": 114,
      "outputs": []
    },
    {
      "cell_type": "code",
      "source": [
        "# Membangun vektor fitur menggunakan TF-IDF\n",
        "vectorizer = TfidfVectorizer()\n",
        "X_train_vectorized = vectorizer.fit_transform(X_train.astype('U'))  # Ubah X_train menjadi format string\n",
        "X_test_vectorized = vectorizer.transform(X_test.astype('U'))  # Ubah X_test menjadi format string"
      ],
      "metadata": {
        "id": "0jnErmGJn6WF"
      },
      "execution_count": 115,
      "outputs": []
    },
    {
      "cell_type": "code",
      "source": [
        "# Melatih model KNN\n",
        "k = 5  # Jumlah tetangga terdekat yang digunakan\n",
        "knn = KNeighborsClassifier(n_neighbors=k)\n",
        "knn.fit(X_train_vectorized, y_train)"
      ],
      "metadata": {
        "colab": {
          "base_uri": "https://localhost:8080/",
          "height": 74
        },
        "id": "ltDLic7QoZaF",
        "outputId": "17249475-2099-4796-d29f-013cce8f8e03"
      },
      "execution_count": 116,
      "outputs": [
        {
          "output_type": "execute_result",
          "data": {
            "text/plain": [
              "KNeighborsClassifier()"
            ],
            "text/html": [
              "<style>#sk-container-id-4 {color: black;background-color: white;}#sk-container-id-4 pre{padding: 0;}#sk-container-id-4 div.sk-toggleable {background-color: white;}#sk-container-id-4 label.sk-toggleable__label {cursor: pointer;display: block;width: 100%;margin-bottom: 0;padding: 0.3em;box-sizing: border-box;text-align: center;}#sk-container-id-4 label.sk-toggleable__label-arrow:before {content: \"▸\";float: left;margin-right: 0.25em;color: #696969;}#sk-container-id-4 label.sk-toggleable__label-arrow:hover:before {color: black;}#sk-container-id-4 div.sk-estimator:hover label.sk-toggleable__label-arrow:before {color: black;}#sk-container-id-4 div.sk-toggleable__content {max-height: 0;max-width: 0;overflow: hidden;text-align: left;background-color: #f0f8ff;}#sk-container-id-4 div.sk-toggleable__content pre {margin: 0.2em;color: black;border-radius: 0.25em;background-color: #f0f8ff;}#sk-container-id-4 input.sk-toggleable__control:checked~div.sk-toggleable__content {max-height: 200px;max-width: 100%;overflow: auto;}#sk-container-id-4 input.sk-toggleable__control:checked~label.sk-toggleable__label-arrow:before {content: \"▾\";}#sk-container-id-4 div.sk-estimator input.sk-toggleable__control:checked~label.sk-toggleable__label {background-color: #d4ebff;}#sk-container-id-4 div.sk-label input.sk-toggleable__control:checked~label.sk-toggleable__label {background-color: #d4ebff;}#sk-container-id-4 input.sk-hidden--visually {border: 0;clip: rect(1px 1px 1px 1px);clip: rect(1px, 1px, 1px, 1px);height: 1px;margin: -1px;overflow: hidden;padding: 0;position: absolute;width: 1px;}#sk-container-id-4 div.sk-estimator {font-family: monospace;background-color: #f0f8ff;border: 1px dotted black;border-radius: 0.25em;box-sizing: border-box;margin-bottom: 0.5em;}#sk-container-id-4 div.sk-estimator:hover {background-color: #d4ebff;}#sk-container-id-4 div.sk-parallel-item::after {content: \"\";width: 100%;border-bottom: 1px solid gray;flex-grow: 1;}#sk-container-id-4 div.sk-label:hover label.sk-toggleable__label {background-color: #d4ebff;}#sk-container-id-4 div.sk-serial::before {content: \"\";position: absolute;border-left: 1px solid gray;box-sizing: border-box;top: 0;bottom: 0;left: 50%;z-index: 0;}#sk-container-id-4 div.sk-serial {display: flex;flex-direction: column;align-items: center;background-color: white;padding-right: 0.2em;padding-left: 0.2em;position: relative;}#sk-container-id-4 div.sk-item {position: relative;z-index: 1;}#sk-container-id-4 div.sk-parallel {display: flex;align-items: stretch;justify-content: center;background-color: white;position: relative;}#sk-container-id-4 div.sk-item::before, #sk-container-id-4 div.sk-parallel-item::before {content: \"\";position: absolute;border-left: 1px solid gray;box-sizing: border-box;top: 0;bottom: 0;left: 50%;z-index: -1;}#sk-container-id-4 div.sk-parallel-item {display: flex;flex-direction: column;z-index: 1;position: relative;background-color: white;}#sk-container-id-4 div.sk-parallel-item:first-child::after {align-self: flex-end;width: 50%;}#sk-container-id-4 div.sk-parallel-item:last-child::after {align-self: flex-start;width: 50%;}#sk-container-id-4 div.sk-parallel-item:only-child::after {width: 0;}#sk-container-id-4 div.sk-dashed-wrapped {border: 1px dashed gray;margin: 0 0.4em 0.5em 0.4em;box-sizing: border-box;padding-bottom: 0.4em;background-color: white;}#sk-container-id-4 div.sk-label label {font-family: monospace;font-weight: bold;display: inline-block;line-height: 1.2em;}#sk-container-id-4 div.sk-label-container {text-align: center;}#sk-container-id-4 div.sk-container {/* jupyter's `normalize.less` sets `[hidden] { display: none; }` but bootstrap.min.css set `[hidden] { display: none !important; }` so we also need the `!important` here to be able to override the default hidden behavior on the sphinx rendered scikit-learn.org. See: https://github.com/scikit-learn/scikit-learn/issues/21755 */display: inline-block !important;position: relative;}#sk-container-id-4 div.sk-text-repr-fallback {display: none;}</style><div id=\"sk-container-id-4\" class=\"sk-top-container\"><div class=\"sk-text-repr-fallback\"><pre>KNeighborsClassifier()</pre><b>In a Jupyter environment, please rerun this cell to show the HTML representation or trust the notebook. <br />On GitHub, the HTML representation is unable to render, please try loading this page with nbviewer.org.</b></div><div class=\"sk-container\" hidden><div class=\"sk-item\"><div class=\"sk-estimator sk-toggleable\"><input class=\"sk-toggleable__control sk-hidden--visually\" id=\"sk-estimator-id-4\" type=\"checkbox\" checked><label for=\"sk-estimator-id-4\" class=\"sk-toggleable__label sk-toggleable__label-arrow\">KNeighborsClassifier</label><div class=\"sk-toggleable__content\"><pre>KNeighborsClassifier()</pre></div></div></div></div></div>"
            ]
          },
          "metadata": {},
          "execution_count": 116
        }
      ]
    },
    {
      "cell_type": "code",
      "source": [
        "# Memprediksi label menggunakan data pengujian\n",
        "y_pred_knn = knn.predict(X_test_vectorized)"
      ],
      "metadata": {
        "id": "RKfWT0I2odIs"
      },
      "execution_count": 117,
      "outputs": []
    },
    {
      "cell_type": "code",
      "source": [
        "# Menghitung confusion matrix\n",
        "cm = confusion_matrix(y_test, y_pred_knn)"
      ],
      "metadata": {
        "id": "j15f091IkgGL"
      },
      "execution_count": 118,
      "outputs": []
    },
    {
      "cell_type": "code",
      "source": [
        "# Menampilkan laporan klasifikasi secara keseluruhan\n",
        "report_overall = classification_report(y_test, y_pred_knn, target_names=['Negatif', 'Positif'])\n",
        "print(\"Klasifikasi Algoritma KNN:\")\n",
        "print(report_overall)\n",
        "# Menampilkan confusion matrix\n",
        "print(\"Confusion Matrix:\")\n",
        "print(cm)"
      ],
      "metadata": {
        "colab": {
          "base_uri": "https://localhost:8080/"
        },
        "id": "ieNQt9E-tkDv",
        "outputId": "1a3d8adf-7673-452a-eab2-392521503bf4"
      },
      "execution_count": 119,
      "outputs": [
        {
          "output_type": "stream",
          "name": "stdout",
          "text": [
            "Klasifikasi Algoritma KNN:\n",
            "              precision    recall  f1-score   support\n",
            "\n",
            "     Negatif       0.72      0.91      0.80       134\n",
            "     Positif       0.60      0.27      0.37        66\n",
            "\n",
            "    accuracy                           0.70       200\n",
            "   macro avg       0.66      0.59      0.59       200\n",
            "weighted avg       0.68      0.70      0.66       200\n",
            "\n",
            "Confusion Matrix:\n",
            "[[122  12]\n",
            " [ 48  18]]\n"
          ]
        }
      ]
    },
    {
      "cell_type": "code",
      "source": [
        "# Menghitung akurasi\n",
        "accuracy_knn = accuracy_score(y_test, y_pred_knn)\n",
        "print(\"Akurasi KNN: {:.2f}%\".format(accuracy_knn * 100))"
      ],
      "metadata": {
        "colab": {
          "base_uri": "https://localhost:8080/"
        },
        "id": "9AgnVmTCx6EE",
        "outputId": "75eec0eb-74fa-4e5e-a6a0-3c1555f56af6"
      },
      "execution_count": 75,
      "outputs": [
        {
          "output_type": "stream",
          "name": "stdout",
          "text": [
            "Akurasi KNN: 70.00%\n"
          ]
        }
      ]
    },
    {
      "cell_type": "markdown",
      "source": [
        "**Metode Naive Bayes**"
      ],
      "metadata": {
        "id": "vcr_zaJyx93Q"
      }
    },
    {
      "cell_type": "code",
      "source": [
        "from sklearn.naive_bayes import MultinomialNB\n",
        "from sklearn.metrics import accuracy_score\n",
        "from sklearn.model_selection import train_test_split\n",
        "from sklearn.feature_extraction.text import TfidfVectorizer\n",
        "from sklearn.metrics import classification_report"
      ],
      "metadata": {
        "id": "B09AvS7L35R4"
      },
      "execution_count": 79,
      "outputs": []
    },
    {
      "cell_type": "code",
      "source": [
        "# Mengambil 1000 dataset pertama\n",
        "df_subset = df.head(1000)"
      ],
      "metadata": {
        "id": "OyqtoROiGuVY"
      },
      "execution_count": 81,
      "outputs": []
    },
    {
      "cell_type": "code",
      "source": [
        "# Memisahkan fitur (X) dan label (y)\n",
        "X = df_subset['stemmed_tokens']\n",
        "y = df_subset['sentiment']"
      ],
      "metadata": {
        "id": "wvRDVToLLLYE"
      },
      "execution_count": 82,
      "outputs": []
    },
    {
      "cell_type": "code",
      "source": [
        "# Bagi data menjadi data pelatihan dan data pengujian\n",
        "X_train, X_test, y_train, y_test = train_test_split(df['content'], df['sentiment'], test_size=0.2, random_state=42)\n"
      ],
      "metadata": {
        "id": "rN1yf8DL4mL5"
      },
      "execution_count": 85,
      "outputs": []
    },
    {
      "cell_type": "code",
      "source": [
        "# Bangun vektor fitur menggunakan TF-IDF\n",
        "vectorizer = TfidfVectorizer()\n",
        "X_train_vectorized = vectorizer.fit_transform(X_train)\n",
        "X_test_vectorized = vectorizer.transform(X_test)"
      ],
      "metadata": {
        "id": "Hc1t5D9i8rUD"
      },
      "execution_count": 86,
      "outputs": []
    },
    {
      "cell_type": "code",
      "source": [
        "# Latih model Naive Bayes\n",
        "naive_bayes = MultinomialNB()\n",
        "naive_bayes.fit(X_train_vectorized, y_train)"
      ],
      "metadata": {
        "colab": {
          "base_uri": "https://localhost:8080/",
          "height": 74
        },
        "id": "Myijy8728u30",
        "outputId": "96642288-1555-40fb-8b87-bade989cb13a"
      },
      "execution_count": 87,
      "outputs": [
        {
          "output_type": "execute_result",
          "data": {
            "text/plain": [
              "MultinomialNB()"
            ],
            "text/html": [
              "<style>#sk-container-id-2 {color: black;background-color: white;}#sk-container-id-2 pre{padding: 0;}#sk-container-id-2 div.sk-toggleable {background-color: white;}#sk-container-id-2 label.sk-toggleable__label {cursor: pointer;display: block;width: 100%;margin-bottom: 0;padding: 0.3em;box-sizing: border-box;text-align: center;}#sk-container-id-2 label.sk-toggleable__label-arrow:before {content: \"▸\";float: left;margin-right: 0.25em;color: #696969;}#sk-container-id-2 label.sk-toggleable__label-arrow:hover:before {color: black;}#sk-container-id-2 div.sk-estimator:hover label.sk-toggleable__label-arrow:before {color: black;}#sk-container-id-2 div.sk-toggleable__content {max-height: 0;max-width: 0;overflow: hidden;text-align: left;background-color: #f0f8ff;}#sk-container-id-2 div.sk-toggleable__content pre {margin: 0.2em;color: black;border-radius: 0.25em;background-color: #f0f8ff;}#sk-container-id-2 input.sk-toggleable__control:checked~div.sk-toggleable__content {max-height: 200px;max-width: 100%;overflow: auto;}#sk-container-id-2 input.sk-toggleable__control:checked~label.sk-toggleable__label-arrow:before {content: \"▾\";}#sk-container-id-2 div.sk-estimator input.sk-toggleable__control:checked~label.sk-toggleable__label {background-color: #d4ebff;}#sk-container-id-2 div.sk-label input.sk-toggleable__control:checked~label.sk-toggleable__label {background-color: #d4ebff;}#sk-container-id-2 input.sk-hidden--visually {border: 0;clip: rect(1px 1px 1px 1px);clip: rect(1px, 1px, 1px, 1px);height: 1px;margin: -1px;overflow: hidden;padding: 0;position: absolute;width: 1px;}#sk-container-id-2 div.sk-estimator {font-family: monospace;background-color: #f0f8ff;border: 1px dotted black;border-radius: 0.25em;box-sizing: border-box;margin-bottom: 0.5em;}#sk-container-id-2 div.sk-estimator:hover {background-color: #d4ebff;}#sk-container-id-2 div.sk-parallel-item::after {content: \"\";width: 100%;border-bottom: 1px solid gray;flex-grow: 1;}#sk-container-id-2 div.sk-label:hover label.sk-toggleable__label {background-color: #d4ebff;}#sk-container-id-2 div.sk-serial::before {content: \"\";position: absolute;border-left: 1px solid gray;box-sizing: border-box;top: 0;bottom: 0;left: 50%;z-index: 0;}#sk-container-id-2 div.sk-serial {display: flex;flex-direction: column;align-items: center;background-color: white;padding-right: 0.2em;padding-left: 0.2em;position: relative;}#sk-container-id-2 div.sk-item {position: relative;z-index: 1;}#sk-container-id-2 div.sk-parallel {display: flex;align-items: stretch;justify-content: center;background-color: white;position: relative;}#sk-container-id-2 div.sk-item::before, #sk-container-id-2 div.sk-parallel-item::before {content: \"\";position: absolute;border-left: 1px solid gray;box-sizing: border-box;top: 0;bottom: 0;left: 50%;z-index: -1;}#sk-container-id-2 div.sk-parallel-item {display: flex;flex-direction: column;z-index: 1;position: relative;background-color: white;}#sk-container-id-2 div.sk-parallel-item:first-child::after {align-self: flex-end;width: 50%;}#sk-container-id-2 div.sk-parallel-item:last-child::after {align-self: flex-start;width: 50%;}#sk-container-id-2 div.sk-parallel-item:only-child::after {width: 0;}#sk-container-id-2 div.sk-dashed-wrapped {border: 1px dashed gray;margin: 0 0.4em 0.5em 0.4em;box-sizing: border-box;padding-bottom: 0.4em;background-color: white;}#sk-container-id-2 div.sk-label label {font-family: monospace;font-weight: bold;display: inline-block;line-height: 1.2em;}#sk-container-id-2 div.sk-label-container {text-align: center;}#sk-container-id-2 div.sk-container {/* jupyter's `normalize.less` sets `[hidden] { display: none; }` but bootstrap.min.css set `[hidden] { display: none !important; }` so we also need the `!important` here to be able to override the default hidden behavior on the sphinx rendered scikit-learn.org. See: https://github.com/scikit-learn/scikit-learn/issues/21755 */display: inline-block !important;position: relative;}#sk-container-id-2 div.sk-text-repr-fallback {display: none;}</style><div id=\"sk-container-id-2\" class=\"sk-top-container\"><div class=\"sk-text-repr-fallback\"><pre>MultinomialNB()</pre><b>In a Jupyter environment, please rerun this cell to show the HTML representation or trust the notebook. <br />On GitHub, the HTML representation is unable to render, please try loading this page with nbviewer.org.</b></div><div class=\"sk-container\" hidden><div class=\"sk-item\"><div class=\"sk-estimator sk-toggleable\"><input class=\"sk-toggleable__control sk-hidden--visually\" id=\"sk-estimator-id-2\" type=\"checkbox\" checked><label for=\"sk-estimator-id-2\" class=\"sk-toggleable__label sk-toggleable__label-arrow\">MultinomialNB</label><div class=\"sk-toggleable__content\"><pre>MultinomialNB()</pre></div></div></div></div></div>"
            ]
          },
          "metadata": {},
          "execution_count": 87
        }
      ]
    },
    {
      "cell_type": "code",
      "source": [
        "# Lakukan prediksi pada data pengujian\n",
        "y_pred_nb = naive_bayes.predict(X_test_vectorized)"
      ],
      "metadata": {
        "id": "PsYJpDI28yYt"
      },
      "execution_count": 88,
      "outputs": []
    },
    {
      "cell_type": "code",
      "source": [
        "#Menampilkan laporan klasifikasi keseluruhan\n",
        "report_overall = classification_report(y_test, y_pred_nb, target_names=['Negatif', 'Positif'])\n",
        "print(\"Klasifikasi naive bayes:\")\n",
        "print(report_overall)"
      ],
      "metadata": {
        "colab": {
          "base_uri": "https://localhost:8080/"
        },
        "id": "BfzWrc_-90NV",
        "outputId": "91b93bc3-bc95-4467-a168-0eee3b12d958"
      },
      "execution_count": 90,
      "outputs": [
        {
          "output_type": "stream",
          "name": "stdout",
          "text": [
            "Klasifikasi naive bayes:\n",
            "              precision    recall  f1-score   support\n",
            "\n",
            "     Negatif       0.69      1.00      0.82       261\n",
            "     Positif       0.96      0.17      0.29       139\n",
            "\n",
            "    accuracy                           0.71       400\n",
            "   macro avg       0.83      0.58      0.56       400\n",
            "weighted avg       0.79      0.71      0.64       400\n",
            "\n"
          ]
        }
      ]
    },
    {
      "cell_type": "code",
      "source": [
        "# Hitung akurasi\n",
        "accuracy_nb = accuracy_score(y_test, y_pred_nb)\n",
        "print(\"Akurasi Naive Bayes: {:.2f}%\".format(accuracy_nb * 100))"
      ],
      "metadata": {
        "colab": {
          "base_uri": "https://localhost:8080/"
        },
        "id": "w4meSlxG82DC",
        "outputId": "ee279112-8705-4b9d-cb3a-42558f4f9e19"
      },
      "execution_count": 91,
      "outputs": [
        {
          "output_type": "stream",
          "name": "stdout",
          "text": [
            "Akurasi Naive Bayes: 71.00%\n"
          ]
        }
      ]
    },
    {
      "cell_type": "markdown",
      "source": [
        "**Banyaknya Data TEST yang digunakan**"
      ],
      "metadata": {
        "id": "ZuFwM-fpnPXT"
      }
    },
    {
      "cell_type": "code",
      "source": [
        "# Menghitung jumlah data yang digunakan\n",
        "num_data = len(y_test)"
      ],
      "metadata": {
        "id": "GHoAMiuEl9Kb"
      },
      "execution_count": 120,
      "outputs": []
    },
    {
      "cell_type": "code",
      "source": [
        "# Menampilkan jumlah data\n",
        "print(\"Jumlah data yang digunakan:\", num_data)"
      ],
      "metadata": {
        "colab": {
          "base_uri": "https://localhost:8080/"
        },
        "id": "u1hcB7CAl_P5",
        "outputId": "8b37669a-33c9-4e4a-d045-fde71b92511f"
      },
      "execution_count": 121,
      "outputs": [
        {
          "output_type": "stream",
          "name": "stdout",
          "text": [
            "Jumlah data yang digunakan: 200\n"
          ]
        }
      ]
    },
    {
      "cell_type": "code",
      "source": [
        "# Menghitung jumlah ulasan positif\n",
        "num_positif = sum(y_test == 'Positif')"
      ],
      "metadata": {
        "id": "MVR1PB_fmNqS"
      },
      "execution_count": 123,
      "outputs": []
    },
    {
      "cell_type": "code",
      "source": [
        "# Menghitung jumlah ulasan negatif\n",
        "num_negatif = sum(y_test == 'Negatif')"
      ],
      "metadata": {
        "id": "ey-KsMidnICS"
      },
      "execution_count": 124,
      "outputs": []
    },
    {
      "cell_type": "code",
      "source": [
        "# Menampilkan jumlah ulasan positif dan negatif\n",
        "print(\"Jumlah ulasan positif:\", num_positif)\n",
        "print(\"Jumlah ulasan negatif:\", num_negatif)"
      ],
      "metadata": {
        "colab": {
          "base_uri": "https://localhost:8080/"
        },
        "id": "hLdEeng7nKWT",
        "outputId": "39d9db0e-b9c4-49c7-dd5e-5eddc213f37a"
      },
      "execution_count": 125,
      "outputs": [
        {
          "output_type": "stream",
          "name": "stdout",
          "text": [
            "Jumlah ulasan positif: 66\n",
            "Jumlah ulasan negatif: 134\n"
          ]
        }
      ]
    },
    {
      "cell_type": "markdown",
      "source": [
        "**Komparasi pada model KNN dan Naive Bayes**"
      ],
      "metadata": {
        "id": "0wPHgADtAJa0"
      }
    },
    {
      "cell_type": "code",
      "source": [
        "import matplotlib.pyplot as plt\n",
        "%matplotlib inline"
      ],
      "metadata": {
        "id": "o90Pp0yVNr77"
      },
      "execution_count": 92,
      "outputs": []
    },
    {
      "cell_type": "code",
      "source": [
        "positive_count = df_subset[df_subset['sentiment'] == 'Positif'].shape[0]\n",
        "negative_count = df_subset[df_subset['sentiment'] == 'Negatif'].shape[0]\n",
        "\n",
        "print(\"Jumlah Ulasan Positif:\", positive_count)\n",
        "print(\"Jumlah Ulasan Negatif:\", negative_count)"
      ],
      "metadata": {
        "colab": {
          "base_uri": "https://localhost:8080/"
        },
        "id": "HMgbLlBxNazL",
        "outputId": "ef1a6741-a1d5-4285-d448-3cdcaf6fe43c"
      },
      "execution_count": 93,
      "outputs": [
        {
          "output_type": "stream",
          "name": "stdout",
          "text": [
            "Jumlah Ulasan Positif: 319\n",
            "Jumlah Ulasan Negatif: 681\n"
          ]
        }
      ]
    },
    {
      "cell_type": "code",
      "source": [
        "# Menyiapkan data untuk grafik\n",
        "models = ['KNN', 'Naive Bayes']\n",
        "accuracies = [accuracy_knn, accuracy_nb]"
      ],
      "metadata": {
        "id": "rkBF4aziOzXN"
      },
      "execution_count": 94,
      "outputs": []
    },
    {
      "cell_type": "code",
      "source": [
        "# Membuat grafik\n",
        "fig, ax1 = plt.subplots()\n",
        "\n",
        "# Menggambar bar grafik akurasi\n",
        "bar1 = ax1.bar(models, accuracies, color='skyblue')\n",
        "ax1.set_xlabel('Model')\n",
        "ax1.set_ylabel('Akurasi')\n",
        "ax1.set_ylim(0, 1)\n",
        "\n",
        "# Menambahkan label persentase pada batang grafik akurasi\n",
        "for bar in bar1:\n",
        "    height = bar.get_height()\n",
        "    ax1.text(bar.get_x() + bar.get_width() / 2, height, f'{height*100:.2f}%', ha='center', va='bottom')\n",
        "\n",
        "# Menghitung presentase akurasi\n",
        "total = sum(accuracies)\n",
        "percentages = [(acc / total) * 100 for acc in accuracies]\n",
        "\n",
        "# Menyiapkan data untuk grafik persentase\n",
        "ax2 = ax1.twinx()\n",
        "ax2.plot(models, percentages, marker='o', color='green', linestyle='--')\n",
        "ax2.set_ylabel('Persentase')\n",
        "ax2.set_ylim(0, 100)\n",
        "\n",
        "# Menambahkan label persentase pada garis grafik persentase\n",
        "for i, percentage in enumerate(percentages):\n",
        "    ax2.text(models[i], percentage + 2, f'{percentage:.2f}%', ha='center', va='bottom')\n",
        "\n",
        "# Menampilkan grafik\n",
        "plt.title('Komparasi Akurasi dan Persentase')\n",
        "plt.show()"
      ],
      "metadata": {
        "colab": {
          "base_uri": "https://localhost:8080/",
          "height": 472
        },
        "id": "JYhfgdhQQSkv",
        "outputId": "cd3faf4a-4202-434c-ef00-27c11dc51892"
      },
      "execution_count": 126,
      "outputs": [
        {
          "output_type": "display_data",
          "data": {
            "text/plain": [
              "<Figure size 640x480 with 2 Axes>"
            ],
            "image/png": "[encoded data removed]"
          },
          "metadata": {}
        }
      ]
    },
    {
      "cell_type": "code",
      "source": [
        "# Mendefinisikan data untuk grafik\n",
        "models = ['KNN', 'Naive Bayes']\n",
        "accuracies = [accuracy_knn, accuracy_nb]\n",
        "\n",
        "# Membuat subplot\n",
        "fig, (ax1, ax2) = plt.subplots(2, sharex=True, gridspec_kw={'height_ratios': [3, 1]})\n",
        "\n",
        "# Menampilkan grafik akurasi\n",
        "ax1.bar(models, accuracies, color=['blue', 'orange'])\n",
        "ax1.set_ylabel('Akurasi')\n",
        "ax1.set_ylim(0, 1)\n",
        "\n",
        "# Menghitung persentase akurasi\n",
        "percentages = [accuracy * 100 for accuracy in accuracies]\n",
        "\n",
        "# Menampilkan garis persentase\n",
        "ax2.plot(models, percentages, marker='o', color='red')\n",
        "ax2.set_ylabel('Persentase')\n",
        "ax2.set_ylim(0, 100)\n",
        "\n",
        "# Menambahkan label persentase pada garis grafik persentase\n",
        "for i, percentage in enumerate(percentages):\n",
        "    ax2.text(models[i], percentage + 2, f'{percentage:.2f}%', ha='center', va='bottom')\n",
        "\n",
        "# Menampilkan grafik\n",
        "plt.xlabel('Model')\n",
        "plt.show()\n"
      ],
      "metadata": {
        "colab": {
          "base_uri": "https://localhost:8080/",
          "height": 455
        },
        "id": "1VRNPmF0n0ta",
        "outputId": "2c364d62-5c7f-4412-8fac-53bba79990f6"
      },
      "execution_count": 127,
      "outputs": [
        {
          "output_type": "display_data",
          "data": {
            "text/plain": [
              "<Figure size 640x480 with 2 Axes>"
            ],
            "image/png": "[encoded data removed]"
          },
          "metadata": {}
        }
      ]
    }
  ]
}